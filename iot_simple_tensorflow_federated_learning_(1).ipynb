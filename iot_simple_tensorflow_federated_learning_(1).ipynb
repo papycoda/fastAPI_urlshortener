{
  "metadata": {
    "kernelspec": {
      "language": "python",
      "display_name": "Python 3",
      "name": "python3"
    },
    "language_info": {
      "name": "python",
      "version": "3.7.12",
      "mimetype": "text/x-python",
      "codemirror_mode": {
        "name": "ipython",
        "version": 3
      },
      "pygments_lexer": "ipython3",
      "nbconvert_exporter": "python",
      "file_extension": ".py"
    },
    "colab": {
      "provenance": [],
      "include_colab_link": true
    }
  },
  "nbformat_minor": 0,
  "nbformat": 4,
  "cells": [
    {
      "cell_type": "markdown",
      "metadata": {
        "id": "view-in-github",
        "colab_type": "text"
      },
      "source": [
        "<a href=\"https://colab.research.google.com/github/papycoda/fastAPI_urlshortener/blob/main/iot_simple_tensorflow_federated_learning_(1).ipynb\" target=\"_parent\"><img src=\"https://colab.research.google.com/assets/colab-badge.svg\" alt=\"Open In Colab\"/></a>"
      ]
    },
    {
      "cell_type": "code",
      "source": [
        "!pip install kaggle\n",
        "\n",
        "import numpy as np # linear algebra\n",
        "import pandas as pd # data processing, CSV file I/O (e.g. pd.read_csv)\n",
        "\n",
        "import os\n"
      ],
      "metadata": {
        "_uuid": "8f2839f25d086af736a60e9eeb907d3b93b6e0e5",
        "_cell_guid": "b1076dfc-b9ad-4769-8c92-a6c4dae69d19",
        "execution": {
          "iopub.status.busy": "2023-09-02T21:22:06.235779Z",
          "iopub.execute_input": "2023-09-02T21:22:06.236261Z",
          "iopub.status.idle": "2023-09-02T21:22:06.267030Z",
          "shell.execute_reply.started": "2023-09-02T21:22:06.236142Z",
          "shell.execute_reply": "2023-09-02T21:22:06.266129Z"
        },
        "trusted": true,
        "colab": {
          "base_uri": "https://localhost:8080/"
        },
        "id": "axnFBzxShG2F",
        "outputId": "ae0d4271-4665-4808-e73e-3896d86af394"
      },
      "execution_count": 1,
      "outputs": [
        {
          "output_type": "stream",
          "name": "stdout",
          "text": [
            "Requirement already satisfied: kaggle in /usr/local/lib/python3.10/dist-packages (1.5.16)\n",
            "Requirement already satisfied: six>=1.10 in /usr/local/lib/python3.10/dist-packages (from kaggle) (1.16.0)\n",
            "Requirement already satisfied: certifi in /usr/local/lib/python3.10/dist-packages (from kaggle) (2023.7.22)\n",
            "Requirement already satisfied: python-dateutil in /usr/local/lib/python3.10/dist-packages (from kaggle) (2.8.2)\n",
            "Requirement already satisfied: requests in /usr/local/lib/python3.10/dist-packages (from kaggle) (2.31.0)\n",
            "Requirement already satisfied: tqdm in /usr/local/lib/python3.10/dist-packages (from kaggle) (4.66.1)\n",
            "Requirement already satisfied: python-slugify in /usr/local/lib/python3.10/dist-packages (from kaggle) (8.0.1)\n",
            "Requirement already satisfied: urllib3 in /usr/local/lib/python3.10/dist-packages (from kaggle) (2.0.4)\n",
            "Requirement already satisfied: bleach in /usr/local/lib/python3.10/dist-packages (from kaggle) (6.0.0)\n",
            "Requirement already satisfied: webencodings in /usr/local/lib/python3.10/dist-packages (from bleach->kaggle) (0.5.1)\n",
            "Requirement already satisfied: text-unidecode>=1.3 in /usr/local/lib/python3.10/dist-packages (from python-slugify->kaggle) (1.3)\n",
            "Requirement already satisfied: charset-normalizer<4,>=2 in /usr/local/lib/python3.10/dist-packages (from requests->kaggle) (3.2.0)\n",
            "Requirement already satisfied: idna<4,>=2.5 in /usr/local/lib/python3.10/dist-packages (from requests->kaggle) (3.4)\n"
          ]
        }
      ]
    },
    {
      "cell_type": "code",
      "source": [
        "! kaggle datasets list\n",
        "#chmod 600 /root/.kaggle/kaggle.json"
      ],
      "metadata": {
        "colab": {
          "base_uri": "https://localhost:8080/"
        },
        "id": "kXIkvbCViJwb",
        "outputId": "f7e85931-f741-48ec-abaf-ab8f3e013bca"
      },
      "execution_count": 5,
      "outputs": [
        {
          "output_type": "stream",
          "name": "stdout",
          "text": [
            "Warning: Your Kaggle API key is readable by other users on this system! To fix this, you can run 'chmod 600 /root/.kaggle/kaggle.json'\n",
            "ref                                                             title                                                size  lastUpdated          downloadCount  voteCount  usabilityRating  \n",
            "--------------------------------------------------------------  --------------------------------------------------  -----  -------------------  -------------  ---------  ---------------  \n",
            "nelgiriyewithana/global-youtube-statistics-2023                 Global YouTube Statistics 2023                       60KB  2023-07-28 15:36:38          14333        477  1.0              \n",
            "mohammadtalib786/retail-sales-dataset                           Retail Sales Dataset                                 11KB  2023-08-22 18:33:09           1364         33  1.0              \n",
            "nelgiriyewithana/top-spotify-songs-2023                         Most Streamed Spotify Songs 2023                     47KB  2023-08-26 11:04:57           3373        115  1.0              \n",
            "joebeachcapital/linkedin-jobs                                   LinkedIn Tech Jobs                                   12KB  2023-08-29 07:15:02            891         28  1.0              \n",
            "iamsouravbanerjee/airline-dataset                               Airline Dataset                                       4MB  2023-08-30 12:03:12           1552         43  1.0              \n",
            "jjinho/wikipedia-20230701                                       Wikipedia Plaintext (2023-07-01)                     12GB  2023-07-17 01:43:57            771         62  1.0              \n",
            "alitaqi000/world-university-rankings-2023                       World University Rankings 2023                       70KB  2023-08-31 14:35:38            791         27  1.0              \n",
            "jjinho/wikipedia-2023-07-faiss-index                            Wikipedia 2023 07 faiss index                         5GB  2023-07-17 01:57:37            372         30  1.0              \n",
            "joebeachcapital/instagram-coders                                Instagram Coders                                     10MB  2023-08-30 04:10:32            386         24  1.0              \n",
            "sooyoungher/smoking-drinking-dataset                            Smoking and Drinking Dataset with body signal        27MB  2023-08-30 04:27:31            741         34  1.0              \n",
            "nelgiriyewithana/global-weather-repository                      World Weather Repository ( Daily Updates )          127KB  2023-09-05 23:24:42            816         41  1.0              \n",
            "omikumarmakadia2121/100-largest-companies                       100 Largest companies                                 4KB  2023-08-30 09:58:07            938         35  1.0              \n",
            "joebeachcapital/nintendo-games                                  Nintendo Games                                       36KB  2023-08-23 23:52:28            955         38  1.0              \n",
            "arjunajn/netflix-watch-log                                      Netflix Watch Log                                   295KB  2023-08-22 08:23:45           1498         45  1.0              \n",
            "ranzeet013/student-graduation-dataset                           Student Graduation Dataset                           87KB  2023-09-03 08:16:37            445         23  0.8235294        \n",
            "rajatraj0502/linkedin-job-2023                                  LinkedIn Job Postings Dataset                        21MB  2023-09-03 18:34:41            341         28  0.9411765        \n",
            "kacperrabczewski/every-porsche-911                              Every Porsche 911 since 1964                         21KB  2023-08-30 21:24:31            609         27  1.0              \n",
            "arshkon/linkedin-job-postings                                   LinkedIn Job Postings - 2023                         21MB  2023-09-01 06:27:40            310         28  1.0              \n",
            "kapturovalexander/hotel-rooms                                   Hotel rooms                                         117KB  2023-09-06 06:00:14            431         22  1.0              \n",
            "sinansaglam/premier-league-last-5-seasons-match-scores-and-xgs  Premier League Last 5 Seasons Match Scores and xGs   33KB  2023-09-03 12:04:40            370         26  1.0              \n"
          ]
        }
      ]
    },
    {
      "cell_type": "code",
      "source": [
        "! kaggle datasets download -d mohamedamineferrag/edgeiiotset-cyber-security-dataset-of-iot-iiot"
      ],
      "metadata": {
        "colab": {
          "base_uri": "https://localhost:8080/"
        },
        "id": "aWQDr1NujxXV",
        "outputId": "c47a3c12-28c5-42d9-aa9b-3b47481d3566"
      },
      "execution_count": 6,
      "outputs": [
        {
          "output_type": "stream",
          "name": "stdout",
          "text": [
            "Warning: Your Kaggle API key is readable by other users on this system! To fix this, you can run 'chmod 600 /root/.kaggle/kaggle.json'\n",
            "Downloading edgeiiotset-cyber-security-dataset-of-iot-iiot.zip to /content\n",
            "100% 1.62G/1.63G [00:57<00:00, 32.5MB/s]\n",
            "100% 1.63G/1.63G [00:57<00:00, 30.1MB/s]\n"
          ]
        }
      ]
    },
    {
      "cell_type": "code",
      "source": [
        "df = pd.read_csv('../input/edgeiiotset-cyber-security-dataset-of-iot-iiot/Edge-IIoTset dataset/Selected dataset for ML and DL/DNN-EdgeIIoT-dataset.csv', low_memory=False)"
      ],
      "metadata": {
        "execution": {
          "iopub.status.busy": "2023-09-02T21:22:06.268850Z",
          "iopub.execute_input": "2023-09-02T21:22:06.269871Z",
          "iopub.status.idle": "2023-09-02T21:23:05.895928Z",
          "shell.execute_reply.started": "2023-09-02T21:22:06.269825Z",
          "shell.execute_reply": "2023-09-02T21:23:05.894598Z"
        },
        "trusted": true,
        "id": "3eCQqNAchG2r"
      },
      "execution_count": null,
      "outputs": []
    },
    {
      "cell_type": "code",
      "source": [
        "df.head()"
      ],
      "metadata": {
        "execution": {
          "iopub.status.busy": "2023-09-02T21:23:05.898247Z",
          "iopub.execute_input": "2023-09-02T21:23:05.898621Z",
          "iopub.status.idle": "2023-09-02T21:23:05.949043Z",
          "shell.execute_reply.started": "2023-09-02T21:23:05.898589Z",
          "shell.execute_reply": "2023-09-02T21:23:05.947903Z"
        },
        "trusted": true,
        "id": "T6B7O1L4hG2x",
        "outputId": "86666e2d-763b-4acf-d966-b39a7ad9f47c"
      },
      "execution_count": null,
      "outputs": [
        {
          "execution_count": 3,
          "output_type": "execute_result",
          "data": {
            "text/plain": "                  frame.time    ip.src_host    ip.dst_host arp.dst.proto_ipv4  \\\n0   2021 11:44:10.081753000   192.168.0.128  192.168.0.101                  0   \n1   2021 11:44:10.162218000   192.168.0.101  192.168.0.128                  0   \n2   2021 11:44:10.162271000   192.168.0.128  192.168.0.101                  0   \n3   2021 11:44:10.162641000   192.168.0.128  192.168.0.101                  0   \n4   2021 11:44:10.166132000   192.168.0.101  192.168.0.128                  0   \n\n   arp.opcode  arp.hw.size arp.src.proto_ipv4  icmp.checksum  icmp.seq_le  \\\n0         0.0          0.0                  0            0.0          0.0   \n1         0.0          0.0                  0            0.0          0.0   \n2         0.0          0.0                  0            0.0          0.0   \n3         0.0          0.0                  0            0.0          0.0   \n4         0.0          0.0                  0            0.0          0.0   \n\n   icmp.transmit_timestamp  ...  mqtt.proto_len mqtt.protoname  \\\n0                      0.0  ...             0.0              0   \n1                      0.0  ...             4.0           MQTT   \n2                      0.0  ...             0.0              0   \n3                      0.0  ...             0.0              0   \n4                      0.0  ...             0.0              0   \n\n                 mqtt.topic mqtt.topic_len mqtt.ver mbtcp.len mbtcp.trans_id  \\\n0                         0            0.0      0.0       0.0            0.0   \n1                         0            0.0      4.0       0.0            0.0   \n2                         0            0.0      0.0       0.0            0.0   \n3                         0            0.0      0.0       0.0            0.0   \n4  Temperature_and_Humidity           24.0      0.0       0.0            0.0   \n\n  mbtcp.unit_id  Attack_label  Attack_type  \n0           0.0             0       Normal  \n1           0.0             0       Normal  \n2           0.0             0       Normal  \n3           0.0             0       Normal  \n4           0.0             0       Normal  \n\n[5 rows x 63 columns]",
            "text/html": "<div>\n<style scoped>\n    .dataframe tbody tr th:only-of-type {\n        vertical-align: middle;\n    }\n\n    .dataframe tbody tr th {\n        vertical-align: top;\n    }\n\n    .dataframe thead th {\n        text-align: right;\n    }\n</style>\n<table border=\"1\" class=\"dataframe\">\n  <thead>\n    <tr style=\"text-align: right;\">\n      <th></th>\n      <th>frame.time</th>\n      <th>ip.src_host</th>\n      <th>ip.dst_host</th>\n      <th>arp.dst.proto_ipv4</th>\n      <th>arp.opcode</th>\n      <th>arp.hw.size</th>\n      <th>arp.src.proto_ipv4</th>\n      <th>icmp.checksum</th>\n      <th>icmp.seq_le</th>\n      <th>icmp.transmit_timestamp</th>\n      <th>...</th>\n      <th>mqtt.proto_len</th>\n      <th>mqtt.protoname</th>\n      <th>mqtt.topic</th>\n      <th>mqtt.topic_len</th>\n      <th>mqtt.ver</th>\n      <th>mbtcp.len</th>\n      <th>mbtcp.trans_id</th>\n      <th>mbtcp.unit_id</th>\n      <th>Attack_label</th>\n      <th>Attack_type</th>\n    </tr>\n  </thead>\n  <tbody>\n    <tr>\n      <th>0</th>\n      <td>2021 11:44:10.081753000</td>\n      <td>192.168.0.128</td>\n      <td>192.168.0.101</td>\n      <td>0</td>\n      <td>0.0</td>\n      <td>0.0</td>\n      <td>0</td>\n      <td>0.0</td>\n      <td>0.0</td>\n      <td>0.0</td>\n      <td>...</td>\n      <td>0.0</td>\n      <td>0</td>\n      <td>0</td>\n      <td>0.0</td>\n      <td>0.0</td>\n      <td>0.0</td>\n      <td>0.0</td>\n      <td>0.0</td>\n      <td>0</td>\n      <td>Normal</td>\n    </tr>\n    <tr>\n      <th>1</th>\n      <td>2021 11:44:10.162218000</td>\n      <td>192.168.0.101</td>\n      <td>192.168.0.128</td>\n      <td>0</td>\n      <td>0.0</td>\n      <td>0.0</td>\n      <td>0</td>\n      <td>0.0</td>\n      <td>0.0</td>\n      <td>0.0</td>\n      <td>...</td>\n      <td>4.0</td>\n      <td>MQTT</td>\n      <td>0</td>\n      <td>0.0</td>\n      <td>4.0</td>\n      <td>0.0</td>\n      <td>0.0</td>\n      <td>0.0</td>\n      <td>0</td>\n      <td>Normal</td>\n    </tr>\n    <tr>\n      <th>2</th>\n      <td>2021 11:44:10.162271000</td>\n      <td>192.168.0.128</td>\n      <td>192.168.0.101</td>\n      <td>0</td>\n      <td>0.0</td>\n      <td>0.0</td>\n      <td>0</td>\n      <td>0.0</td>\n      <td>0.0</td>\n      <td>0.0</td>\n      <td>...</td>\n      <td>0.0</td>\n      <td>0</td>\n      <td>0</td>\n      <td>0.0</td>\n      <td>0.0</td>\n      <td>0.0</td>\n      <td>0.0</td>\n      <td>0.0</td>\n      <td>0</td>\n      <td>Normal</td>\n    </tr>\n    <tr>\n      <th>3</th>\n      <td>2021 11:44:10.162641000</td>\n      <td>192.168.0.128</td>\n      <td>192.168.0.101</td>\n      <td>0</td>\n      <td>0.0</td>\n      <td>0.0</td>\n      <td>0</td>\n      <td>0.0</td>\n      <td>0.0</td>\n      <td>0.0</td>\n      <td>...</td>\n      <td>0.0</td>\n      <td>0</td>\n      <td>0</td>\n      <td>0.0</td>\n      <td>0.0</td>\n      <td>0.0</td>\n      <td>0.0</td>\n      <td>0.0</td>\n      <td>0</td>\n      <td>Normal</td>\n    </tr>\n    <tr>\n      <th>4</th>\n      <td>2021 11:44:10.166132000</td>\n      <td>192.168.0.101</td>\n      <td>192.168.0.128</td>\n      <td>0</td>\n      <td>0.0</td>\n      <td>0.0</td>\n      <td>0</td>\n      <td>0.0</td>\n      <td>0.0</td>\n      <td>0.0</td>\n      <td>...</td>\n      <td>0.0</td>\n      <td>0</td>\n      <td>Temperature_and_Humidity</td>\n      <td>24.0</td>\n      <td>0.0</td>\n      <td>0.0</td>\n      <td>0.0</td>\n      <td>0.0</td>\n      <td>0</td>\n      <td>Normal</td>\n    </tr>\n  </tbody>\n</table>\n<p>5 rows × 63 columns</p>\n</div>"
          },
          "metadata": {}
        }
      ]
    },
    {
      "cell_type": "code",
      "source": [
        "df[\"Attack_type\"].value_counts()"
      ],
      "metadata": {
        "execution": {
          "iopub.status.busy": "2023-09-02T21:23:05.950742Z",
          "iopub.execute_input": "2023-09-02T21:23:05.951430Z",
          "iopub.status.idle": "2023-09-02T21:23:06.239206Z",
          "shell.execute_reply.started": "2023-09-02T21:23:05.951385Z",
          "shell.execute_reply": "2023-09-02T21:23:06.237944Z"
        },
        "trusted": true,
        "id": "pZ4-J65nhG3C",
        "outputId": "625836cb-a063-41b5-f5b5-dbe87c6ab327"
      },
      "execution_count": null,
      "outputs": [
        {
          "execution_count": 4,
          "output_type": "execute_result",
          "data": {
            "text/plain": "Normal                   1615643\nDDoS_UDP                  121568\nDDoS_ICMP                 116436\nSQL_injection              51203\nPassword                   50153\nVulnerability_scanner      50110\nDDoS_TCP                   50062\nDDoS_HTTP                  49911\nUploading                  37634\nBackdoor                   24862\nPort_Scanning              22564\nXSS                        15915\nRansomware                 10925\nMITM                        1214\nFingerprinting              1001\nName: Attack_type, dtype: int64"
          },
          "metadata": {}
        }
      ]
    },
    {
      "cell_type": "code",
      "source": [
        "from matplotlib import pyplot as plt\n",
        "\n",
        "plt.title(\"Class Distribution\")\n",
        "df.groupby(\"Attack_type\").size().plot(kind='pie', autopct='%.2f', figsize=(20,10))"
      ],
      "metadata": {
        "execution": {
          "iopub.status.busy": "2023-09-02T21:29:27.836010Z",
          "iopub.execute_input": "2023-09-02T21:29:27.837217Z",
          "iopub.status.idle": "2023-09-02T21:29:28.384133Z",
          "shell.execute_reply.started": "2023-09-02T21:29:27.837174Z",
          "shell.execute_reply": "2023-09-02T21:29:28.382939Z"
        },
        "trusted": true,
        "id": "S5vOjRlYhG3M",
        "outputId": "a460768e-d196-473a-914b-67f64a0018d4"
      },
      "execution_count": null,
      "outputs": [
        {
          "execution_count": 8,
          "output_type": "execute_result",
          "data": {
            "text/plain": "<AxesSubplot:title={'center':'Class Distribution'}, ylabel='None'>"
          },
          "metadata": {}
        },
        {
          "output_type": "display_data",
          "data": {
            "text/plain": "<Figure size 1440x720 with 1 Axes>",
            "image/png": "[encoded data removed]"
          },
          "metadata": {}
        }
      ]
    },
    {
      "cell_type": "code",
      "source": [
        "df.info()"
      ],
      "metadata": {
        "execution": {
          "iopub.status.busy": "2023-09-02T21:36:16.850378Z",
          "iopub.execute_input": "2023-09-02T21:36:16.850823Z",
          "iopub.status.idle": "2023-09-02T21:36:16.872893Z",
          "shell.execute_reply.started": "2023-09-02T21:36:16.850786Z",
          "shell.execute_reply": "2023-09-02T21:36:16.871658Z"
        },
        "trusted": true,
        "id": "ETb0mvoAhG3S",
        "outputId": "b424cc39-d5cf-4b6a-b1df-8668ac6a399c"
      },
      "execution_count": null,
      "outputs": [
        {
          "name": "stdout",
          "text": "<class 'pandas.core.frame.DataFrame'>\nRangeIndex: 2219201 entries, 0 to 2219200\nData columns (total 63 columns):\n #   Column                     Dtype  \n---  ------                     -----  \n 0   frame.time                 object \n 1   ip.src_host                object \n 2   ip.dst_host                object \n 3   arp.dst.proto_ipv4         object \n 4   arp.opcode                 float64\n 5   arp.hw.size                float64\n 6   arp.src.proto_ipv4         object \n 7   icmp.checksum              float64\n 8   icmp.seq_le                float64\n 9   icmp.transmit_timestamp    float64\n 10  icmp.unused                float64\n 11  http.file_data             object \n 12  http.content_length        float64\n 13  http.request.uri.query     object \n 14  http.request.method        object \n 15  http.referer               object \n 16  http.request.full_uri      object \n 17  http.request.version       object \n 18  http.response              float64\n 19  http.tls_port              float64\n 20  tcp.ack                    float64\n 21  tcp.ack_raw                float64\n 22  tcp.checksum               float64\n 23  tcp.connection.fin         float64\n 24  tcp.connection.rst         float64\n 25  tcp.connection.syn         float64\n 26  tcp.connection.synack      float64\n 27  tcp.dstport                float64\n 28  tcp.flags                  float64\n 29  tcp.flags.ack              float64\n 30  tcp.len                    float64\n 31  tcp.options                object \n 32  tcp.payload                object \n 33  tcp.seq                    float64\n 34  tcp.srcport                object \n 35  udp.port                   float64\n 36  udp.stream                 float64\n 37  udp.time_delta             float64\n 38  dns.qry.name               float64\n 39  dns.qry.name.len           object \n 40  dns.qry.qu                 float64\n 41  dns.qry.type               float64\n 42  dns.retransmission         float64\n 43  dns.retransmit_request     float64\n 44  dns.retransmit_request_in  float64\n 45  mqtt.conack.flags          object \n 46  mqtt.conflag.cleansess     float64\n 47  mqtt.conflags              float64\n 48  mqtt.hdrflags              float64\n 49  mqtt.len                   float64\n 50  mqtt.msg_decoded_as        float64\n 51  mqtt.msg                   object \n 52  mqtt.msgtype               float64\n 53  mqtt.proto_len             float64\n 54  mqtt.protoname             object \n 55  mqtt.topic                 object \n 56  mqtt.topic_len             float64\n 57  mqtt.ver                   float64\n 58  mbtcp.len                  float64\n 59  mbtcp.trans_id             float64\n 60  mbtcp.unit_id              float64\n 61  Attack_label               int64  \n 62  Attack_type                object \ndtypes: float64(42), int64(1), object(20)\nmemory usage: 1.0+ GB\n",
          "output_type": "stream"
        }
      ]
    },
    {
      "cell_type": "code",
      "source": [
        "df = df.sample(frac=1).reset_index(drop=True)"
      ],
      "metadata": {
        "execution": {
          "iopub.status.busy": "2023-09-02T21:36:07.580492Z",
          "iopub.execute_input": "2023-09-02T21:36:07.583038Z",
          "iopub.status.idle": "2023-09-02T21:36:16.227466Z",
          "shell.execute_reply.started": "2023-09-02T21:36:07.582985Z",
          "shell.execute_reply": "2023-09-02T21:36:16.226118Z"
        },
        "trusted": true,
        "id": "9icAQEPShG3X"
      },
      "execution_count": null,
      "outputs": []
    },
    {
      "cell_type": "code",
      "source": [
        "df.head()"
      ],
      "metadata": {
        "execution": {
          "iopub.status.busy": "2023-09-02T21:36:21.818780Z",
          "iopub.execute_input": "2023-09-02T21:36:21.819209Z",
          "iopub.status.idle": "2023-09-02T21:36:21.858811Z",
          "shell.execute_reply.started": "2023-09-02T21:36:21.819147Z",
          "shell.execute_reply": "2023-09-02T21:36:21.857117Z"
        },
        "trusted": true,
        "id": "xbbcoJChhG3a",
        "outputId": "e3d3f078-f10a-4151-d5c3-5aa5004aaa3f"
      },
      "execution_count": null,
      "outputs": [
        {
          "execution_count": 11,
          "output_type": "execute_result",
          "data": {
            "text/plain": "                  frame.time    ip.src_host    ip.dst_host arp.dst.proto_ipv4  \\\n0   2021 16:08:53.216723000   192.168.0.128  192.168.0.101                  0   \n1   2021 12:33:38.837390000   192.168.0.128  192.168.0.101                  0   \n2   2021 17:25:19.102658000   192.168.0.128  192.168.0.101                  0   \n3   2021 21:49:50.978418000   192.168.0.101  192.168.0.128                  0   \n4   2021 00:04:52.255943000   192.168.0.128  192.168.0.170                  0   \n\n   arp.opcode  arp.hw.size arp.src.proto_ipv4  icmp.checksum  icmp.seq_le  \\\n0         0.0          0.0                  0            0.0          0.0   \n1         0.0          0.0                  0            0.0          0.0   \n2         0.0          0.0                  0            0.0          0.0   \n3         0.0          0.0                  0            0.0          0.0   \n4         0.0          0.0                  0            0.0          0.0   \n\n   icmp.transmit_timestamp  ...  mqtt.proto_len mqtt.protoname  mqtt.topic  \\\n0                      0.0  ...             0.0              0           0   \n1                      0.0  ...             0.0              0           0   \n2                      0.0  ...             0.0              0           0   \n3                      0.0  ...             0.0              0           0   \n4                      0.0  ...             0.0            0.0         0.0   \n\n  mqtt.topic_len mqtt.ver mbtcp.len mbtcp.trans_id mbtcp.unit_id  \\\n0            0.0      0.0       0.0            0.0           0.0   \n1            0.0      0.0       0.0            0.0           0.0   \n2            0.0      0.0       0.0            0.0           0.0   \n3            0.0      0.0       0.0            0.0           0.0   \n4            0.0      0.0       0.0            0.0           0.0   \n\n   Attack_label  Attack_type  \n0             0       Normal  \n1             0       Normal  \n2             0       Normal  \n3             0       Normal  \n4             1   Ransomware  \n\n[5 rows x 63 columns]",
            "text/html": "<div>\n<style scoped>\n    .dataframe tbody tr th:only-of-type {\n        vertical-align: middle;\n    }\n\n    .dataframe tbody tr th {\n        vertical-align: top;\n    }\n\n    .dataframe thead th {\n        text-align: right;\n    }\n</style>\n<table border=\"1\" class=\"dataframe\">\n  <thead>\n    <tr style=\"text-align: right;\">\n      <th></th>\n      <th>frame.time</th>\n      <th>ip.src_host</th>\n      <th>ip.dst_host</th>\n      <th>arp.dst.proto_ipv4</th>\n      <th>arp.opcode</th>\n      <th>arp.hw.size</th>\n      <th>arp.src.proto_ipv4</th>\n      <th>icmp.checksum</th>\n      <th>icmp.seq_le</th>\n      <th>icmp.transmit_timestamp</th>\n      <th>...</th>\n      <th>mqtt.proto_len</th>\n      <th>mqtt.protoname</th>\n      <th>mqtt.topic</th>\n      <th>mqtt.topic_len</th>\n      <th>mqtt.ver</th>\n      <th>mbtcp.len</th>\n      <th>mbtcp.trans_id</th>\n      <th>mbtcp.unit_id</th>\n      <th>Attack_label</th>\n      <th>Attack_type</th>\n    </tr>\n  </thead>\n  <tbody>\n    <tr>\n      <th>0</th>\n      <td>2021 16:08:53.216723000</td>\n      <td>192.168.0.128</td>\n      <td>192.168.0.101</td>\n      <td>0</td>\n      <td>0.0</td>\n      <td>0.0</td>\n      <td>0</td>\n      <td>0.0</td>\n      <td>0.0</td>\n      <td>0.0</td>\n      <td>...</td>\n      <td>0.0</td>\n      <td>0</td>\n      <td>0</td>\n      <td>0.0</td>\n      <td>0.0</td>\n      <td>0.0</td>\n      <td>0.0</td>\n      <td>0.0</td>\n      <td>0</td>\n      <td>Normal</td>\n    </tr>\n    <tr>\n      <th>1</th>\n      <td>2021 12:33:38.837390000</td>\n      <td>192.168.0.128</td>\n      <td>192.168.0.101</td>\n      <td>0</td>\n      <td>0.0</td>\n      <td>0.0</td>\n      <td>0</td>\n      <td>0.0</td>\n      <td>0.0</td>\n      <td>0.0</td>\n      <td>...</td>\n      <td>0.0</td>\n      <td>0</td>\n      <td>0</td>\n      <td>0.0</td>\n      <td>0.0</td>\n      <td>0.0</td>\n      <td>0.0</td>\n      <td>0.0</td>\n      <td>0</td>\n      <td>Normal</td>\n    </tr>\n    <tr>\n      <th>2</th>\n      <td>2021 17:25:19.102658000</td>\n      <td>192.168.0.128</td>\n      <td>192.168.0.101</td>\n      <td>0</td>\n      <td>0.0</td>\n      <td>0.0</td>\n      <td>0</td>\n      <td>0.0</td>\n      <td>0.0</td>\n      <td>0.0</td>\n      <td>...</td>\n      <td>0.0</td>\n      <td>0</td>\n      <td>0</td>\n      <td>0.0</td>\n      <td>0.0</td>\n      <td>0.0</td>\n      <td>0.0</td>\n      <td>0.0</td>\n      <td>0</td>\n      <td>Normal</td>\n    </tr>\n    <tr>\n      <th>3</th>\n      <td>2021 21:49:50.978418000</td>\n      <td>192.168.0.101</td>\n      <td>192.168.0.128</td>\n      <td>0</td>\n      <td>0.0</td>\n      <td>0.0</td>\n      <td>0</td>\n      <td>0.0</td>\n      <td>0.0</td>\n      <td>0.0</td>\n      <td>...</td>\n      <td>0.0</td>\n      <td>0</td>\n      <td>0</td>\n      <td>0.0</td>\n      <td>0.0</td>\n      <td>0.0</td>\n      <td>0.0</td>\n      <td>0.0</td>\n      <td>0</td>\n      <td>Normal</td>\n    </tr>\n    <tr>\n      <th>4</th>\n      <td>2021 00:04:52.255943000</td>\n      <td>192.168.0.128</td>\n      <td>192.168.0.170</td>\n      <td>0</td>\n      <td>0.0</td>\n      <td>0.0</td>\n      <td>0</td>\n      <td>0.0</td>\n      <td>0.0</td>\n      <td>0.0</td>\n      <td>...</td>\n      <td>0.0</td>\n      <td>0.0</td>\n      <td>0.0</td>\n      <td>0.0</td>\n      <td>0.0</td>\n      <td>0.0</td>\n      <td>0.0</td>\n      <td>0.0</td>\n      <td>1</td>\n      <td>Ransomware</td>\n    </tr>\n  </tbody>\n</table>\n<p>5 rows × 63 columns</p>\n</div>"
          },
          "metadata": {}
        }
      ]
    },
    {
      "cell_type": "code",
      "source": [
        "from sklearn.utils import shuffle\n",
        "\n",
        "drop_columns = [\"frame.time\", \"ip.src_host\", \"ip.dst_host\", \"arp.src.proto_ipv4\",\"arp.dst.proto_ipv4\",\n",
        "\n",
        "         \"http.file_data\",\"http.request.full_uri\",\"icmp.transmit_timestamp\",\n",
        "\n",
        "         \"http.request.uri.query\", \"tcp.options\",\"tcp.payload\",\"tcp.srcport\",\n",
        "\n",
        "         \"tcp.dstport\", \"udp.port\", \"mqtt.msg\"]\n",
        "\n",
        "df.drop(drop_columns, axis=1, inplace=True)\n",
        "\n",
        "df.dropna(axis=0, how='any', inplace=True)\n",
        "\n",
        "df.drop_duplicates(subset=None, keep=\"first\", inplace=True)\n",
        "\n",
        "df = shuffle(df)\n",
        "\n",
        "df.isna().sum()"
      ],
      "metadata": {
        "execution": {
          "iopub.status.busy": "2023-09-02T21:57:34.391570Z",
          "iopub.execute_input": "2023-09-02T21:57:34.392888Z",
          "iopub.status.idle": "2023-09-02T21:57:49.863772Z",
          "shell.execute_reply.started": "2023-09-02T21:57:34.392840Z",
          "shell.execute_reply": "2023-09-02T21:57:49.862605Z"
        },
        "trusted": true,
        "id": "EPNNgCRUhG3e",
        "outputId": "a5cb7069-7782-4d3f-9957-1f09dd029cba"
      },
      "execution_count": null,
      "outputs": [
        {
          "execution_count": 16,
          "output_type": "execute_result",
          "data": {
            "text/plain": "arp.opcode                   0\narp.hw.size                  0\nicmp.checksum                0\nicmp.seq_le                  0\nicmp.unused                  0\nhttp.content_length          0\nhttp.request.method          0\nhttp.referer                 0\nhttp.request.version         0\nhttp.response                0\nhttp.tls_port                0\ntcp.ack                      0\ntcp.ack_raw                  0\ntcp.checksum                 0\ntcp.connection.fin           0\ntcp.connection.rst           0\ntcp.connection.syn           0\ntcp.connection.synack        0\ntcp.flags                    0\ntcp.flags.ack                0\ntcp.len                      0\ntcp.seq                      0\nudp.stream                   0\nudp.time_delta               0\ndns.qry.name                 0\ndns.qry.name.len             0\ndns.qry.qu                   0\ndns.qry.type                 0\ndns.retransmission           0\ndns.retransmit_request       0\ndns.retransmit_request_in    0\nmqtt.conack.flags            0\nmqtt.conflag.cleansess       0\nmqtt.conflags                0\nmqtt.hdrflags                0\nmqtt.len                     0\nmqtt.msg_decoded_as          0\nmqtt.msgtype                 0\nmqtt.proto_len               0\nmqtt.protoname               0\nmqtt.topic                   0\nmqtt.topic_len               0\nmqtt.ver                     0\nmbtcp.len                    0\nmbtcp.trans_id               0\nmbtcp.unit_id                0\nAttack_label                 0\nAttack_type                  0\nclient                       0\ndtype: int64"
          },
          "metadata": {}
        }
      ]
    },
    {
      "cell_type": "code",
      "source": [
        "import random\n",
        "\n",
        "num_client = 10\n",
        "\n",
        "df[\"client\"] = [\"client_{}\".format(random.randint(1, num_client)) for _ in range(df.shape[0])]"
      ],
      "metadata": {
        "execution": {
          "iopub.status.busy": "2023-09-02T21:58:27.224559Z",
          "iopub.execute_input": "2023-09-02T21:58:27.225020Z",
          "iopub.status.idle": "2023-09-02T21:58:33.685696Z",
          "shell.execute_reply.started": "2023-09-02T21:58:27.224983Z",
          "shell.execute_reply": "2023-09-02T21:58:33.684765Z"
        },
        "trusted": true,
        "id": "SNi_fV0mhG3k"
      },
      "execution_count": null,
      "outputs": []
    },
    {
      "cell_type": "code",
      "source": [
        "from sklearn.model_selection import train_test_split\n",
        "\n",
        "train_df, test_df = train_test_split(df, test_size=0.2, random_state=42, stratify=df[\"Attack_type\"])"
      ],
      "metadata": {
        "execution": {
          "iopub.status.busy": "2023-09-02T22:10:28.866685Z",
          "iopub.execute_input": "2023-09-02T22:10:28.867207Z",
          "iopub.status.idle": "2023-09-02T22:10:37.243506Z",
          "shell.execute_reply.started": "2023-09-02T22:10:28.867139Z",
          "shell.execute_reply": "2023-09-02T22:10:37.242103Z"
        },
        "trusted": true,
        "id": "FM5yUlK-hG3o"
      },
      "execution_count": null,
      "outputs": []
    },
    {
      "cell_type": "code",
      "source": [
        "train_df.head()"
      ],
      "metadata": {
        "execution": {
          "iopub.status.busy": "2023-09-02T22:12:13.111240Z",
          "iopub.execute_input": "2023-09-02T22:12:13.111716Z",
          "iopub.status.idle": "2023-09-02T22:12:13.144311Z",
          "shell.execute_reply.started": "2023-09-02T22:12:13.111682Z",
          "shell.execute_reply": "2023-09-02T22:12:13.143009Z"
        },
        "trusted": true,
        "id": "Dn73goLfhG3r",
        "outputId": "38015233-91bf-45ca-d951-1ffbe94ca9c5"
      },
      "execution_count": null,
      "outputs": [
        {
          "execution_count": 32,
          "output_type": "execute_result",
          "data": {
            "text/plain": "         arp.opcode  arp.hw.size  icmp.checksum  icmp.seq_le  icmp.unused  \\\n1731378         0.0          0.0            0.0          0.0          0.0   \n1490904         0.0          0.0            0.0          0.0          0.0   \n1494206         0.0          0.0            0.0          0.0          0.0   \n1213041         0.0          0.0            0.0          0.0          0.0   \n666362          0.0          0.0            0.0          0.0          0.0   \n\n         http.content_length  http.response  http.tls_port     tcp.ack  \\\n1731378                  0.0            0.0            0.0  28613809.0   \n1490904                  0.0            0.0            0.0         1.0   \n1494206                  0.0            0.0            0.0     16252.0   \n1213041                  0.0            0.0            0.0        59.0   \n666362                   0.0            0.0            0.0         1.0   \n\n          tcp.ack_raw  ...  mqtt.conack.flags-1471198  \\\n1731378  1.167466e+09  ...                          0   \n1490904  3.819220e+09  ...                          0   \n1494206  2.371641e+09  ...                          0   \n1213041  3.559501e+08  ...                          0   \n666362   5.047234e+07  ...                          0   \n\n         mqtt.conack.flags-1471199  mqtt.conack.flags-1574358  \\\n1731378                          0                          0   \n1490904                          0                          0   \n1494206                          0                          0   \n1213041                          0                          0   \n666362                           0                          0   \n\n         mqtt.conack.flags-1574359  mqtt.protoname-0  mqtt.protoname-0.0  \\\n1731378                          0                 1                   0   \n1490904                          0                 0                   1   \n1494206                          0                 1                   0   \n1213041                          0                 1                   0   \n666362                           0                 1                   0   \n\n         mqtt.protoname-MQTT  mqtt.topic-0  mqtt.topic-0.0  \\\n1731378                    0             1               0   \n1490904                    0             0               1   \n1494206                    0             1               0   \n1213041                    0             1               0   \n666362                     0             1               0   \n\n         mqtt.topic-Temperature_and_Humidity  \n1731378                                    0  \n1490904                                    0  \n1494206                                    0  \n1213041                                    0  \n666362                                     0  \n\n[5 rows x 98 columns]",
            "text/html": "<div>\n<style scoped>\n    .dataframe tbody tr th:only-of-type {\n        vertical-align: middle;\n    }\n\n    .dataframe tbody tr th {\n        vertical-align: top;\n    }\n\n    .dataframe thead th {\n        text-align: right;\n    }\n</style>\n<table border=\"1\" class=\"dataframe\">\n  <thead>\n    <tr style=\"text-align: right;\">\n      <th></th>\n      <th>arp.opcode</th>\n      <th>arp.hw.size</th>\n      <th>icmp.checksum</th>\n      <th>icmp.seq_le</th>\n      <th>icmp.unused</th>\n      <th>http.content_length</th>\n      <th>http.response</th>\n      <th>http.tls_port</th>\n      <th>tcp.ack</th>\n      <th>tcp.ack_raw</th>\n      <th>...</th>\n      <th>mqtt.conack.flags-1471198</th>\n      <th>mqtt.conack.flags-1471199</th>\n      <th>mqtt.conack.flags-1574358</th>\n      <th>mqtt.conack.flags-1574359</th>\n      <th>mqtt.protoname-0</th>\n      <th>mqtt.protoname-0.0</th>\n      <th>mqtt.protoname-MQTT</th>\n      <th>mqtt.topic-0</th>\n      <th>mqtt.topic-0.0</th>\n      <th>mqtt.topic-Temperature_and_Humidity</th>\n    </tr>\n  </thead>\n  <tbody>\n    <tr>\n      <th>1731378</th>\n      <td>0.0</td>\n      <td>0.0</td>\n      <td>0.0</td>\n      <td>0.0</td>\n      <td>0.0</td>\n      <td>0.0</td>\n      <td>0.0</td>\n      <td>0.0</td>\n      <td>28613809.0</td>\n      <td>1.167466e+09</td>\n      <td>...</td>\n      <td>0</td>\n      <td>0</td>\n      <td>0</td>\n      <td>0</td>\n      <td>1</td>\n      <td>0</td>\n      <td>0</td>\n      <td>1</td>\n      <td>0</td>\n      <td>0</td>\n    </tr>\n    <tr>\n      <th>1490904</th>\n      <td>0.0</td>\n      <td>0.0</td>\n      <td>0.0</td>\n      <td>0.0</td>\n      <td>0.0</td>\n      <td>0.0</td>\n      <td>0.0</td>\n      <td>0.0</td>\n      <td>1.0</td>\n      <td>3.819220e+09</td>\n      <td>...</td>\n      <td>0</td>\n      <td>0</td>\n      <td>0</td>\n      <td>0</td>\n      <td>0</td>\n      <td>1</td>\n      <td>0</td>\n      <td>0</td>\n      <td>1</td>\n      <td>0</td>\n    </tr>\n    <tr>\n      <th>1494206</th>\n      <td>0.0</td>\n      <td>0.0</td>\n      <td>0.0</td>\n      <td>0.0</td>\n      <td>0.0</td>\n      <td>0.0</td>\n      <td>0.0</td>\n      <td>0.0</td>\n      <td>16252.0</td>\n      <td>2.371641e+09</td>\n      <td>...</td>\n      <td>0</td>\n      <td>0</td>\n      <td>0</td>\n      <td>0</td>\n      <td>1</td>\n      <td>0</td>\n      <td>0</td>\n      <td>1</td>\n      <td>0</td>\n      <td>0</td>\n    </tr>\n    <tr>\n      <th>1213041</th>\n      <td>0.0</td>\n      <td>0.0</td>\n      <td>0.0</td>\n      <td>0.0</td>\n      <td>0.0</td>\n      <td>0.0</td>\n      <td>0.0</td>\n      <td>0.0</td>\n      <td>59.0</td>\n      <td>3.559501e+08</td>\n      <td>...</td>\n      <td>0</td>\n      <td>0</td>\n      <td>0</td>\n      <td>0</td>\n      <td>1</td>\n      <td>0</td>\n      <td>0</td>\n      <td>1</td>\n      <td>0</td>\n      <td>0</td>\n    </tr>\n    <tr>\n      <th>666362</th>\n      <td>0.0</td>\n      <td>0.0</td>\n      <td>0.0</td>\n      <td>0.0</td>\n      <td>0.0</td>\n      <td>0.0</td>\n      <td>0.0</td>\n      <td>0.0</td>\n      <td>1.0</td>\n      <td>5.047234e+07</td>\n      <td>...</td>\n      <td>0</td>\n      <td>0</td>\n      <td>0</td>\n      <td>0</td>\n      <td>1</td>\n      <td>0</td>\n      <td>0</td>\n      <td>1</td>\n      <td>0</td>\n      <td>0</td>\n    </tr>\n  </tbody>\n</table>\n<p>5 rows × 98 columns</p>\n</div>"
          },
          "metadata": {}
        }
      ]
    },
    {
      "cell_type": "code",
      "source": [
        "features = list(train_df.columns)\n",
        "features.remove(\"Attack_type\")\n",
        "features.remove(\"client\")\n",
        "features"
      ],
      "metadata": {
        "execution": {
          "iopub.status.busy": "2023-09-02T22:12:27.841291Z",
          "iopub.execute_input": "2023-09-02T22:12:27.841730Z",
          "iopub.status.idle": "2023-09-02T22:12:27.851873Z",
          "shell.execute_reply.started": "2023-09-02T22:12:27.841693Z",
          "shell.execute_reply": "2023-09-02T22:12:27.850962Z"
        },
        "trusted": true,
        "id": "bbKCIVVYhG3u",
        "outputId": "c01885e1-8891-4f75-f10d-bed063d96fea"
      },
      "execution_count": null,
      "outputs": [
        {
          "execution_count": 33,
          "output_type": "execute_result",
          "data": {
            "text/plain": "['arp.opcode',\n 'arp.hw.size',\n 'icmp.checksum',\n 'icmp.seq_le',\n 'icmp.unused',\n 'http.content_length',\n 'http.response',\n 'http.tls_port',\n 'tcp.ack',\n 'tcp.ack_raw',\n 'tcp.checksum',\n 'tcp.connection.fin',\n 'tcp.connection.rst',\n 'tcp.connection.syn',\n 'tcp.connection.synack',\n 'tcp.flags',\n 'tcp.flags.ack',\n 'tcp.len',\n 'tcp.seq',\n 'udp.stream',\n 'udp.time_delta',\n 'dns.qry.name',\n 'dns.qry.qu',\n 'dns.qry.type',\n 'dns.retransmission',\n 'dns.retransmit_request',\n 'dns.retransmit_request_in',\n 'mqtt.conflag.cleansess',\n 'mqtt.conflags',\n 'mqtt.hdrflags',\n 'mqtt.len',\n 'mqtt.msg_decoded_as',\n 'mqtt.msgtype',\n 'mqtt.proto_len',\n 'mqtt.topic_len',\n 'mqtt.ver',\n 'mbtcp.len',\n 'mbtcp.trans_id',\n 'mbtcp.unit_id',\n 'Attack_label',\n 'http.request.method-0',\n 'http.request.method-0.0',\n 'http.request.method-GET',\n 'http.request.method-OPTIONS',\n 'http.request.method-POST',\n 'http.request.method-PROPFIND',\n 'http.request.method-PUT',\n 'http.request.method-SEARCH',\n 'http.request.method-TRACE',\n 'http.referer-() { _; } >_[$($())] { echo 93e4r0-CVE-2014-6278: true; echo;echo; }',\n 'http.referer-0',\n 'http.referer-0.0',\n 'http.referer-127.0.0.1',\n 'http.referer-TESTING_PURPOSES_ONLY',\n 'http.request.version--a HTTP/1.1',\n 'http.request.version--al&ABSOLUTE_PATH_STUDIP=http://cirt.net/rfiinc.txt?? HTTP/1.1',\n 'http.request.version--al&_PHPLIB[libdir]=http://cirt.net/rfiinc.txt?? HTTP/1.1',\n 'http.request.version-/etc/passwd|?data=Download HTTP/1.1',\n 'http.request.version-0',\n 'http.request.version-0.0',\n 'http.request.version-> HTTP/1.1',\n 'http.request.version-By Dr HTTP/1.1',\n 'http.request.version-HTTP/1.0',\n 'http.request.version-HTTP/1.1',\n 'http.request.version-Src=javascript:alert(\\'Vulnerable\\')><Img Src=\\\\\" HTTP/1.1',\n \"http.request.version-name=a><input name=i value=XSS>&lt;script>alert('Vulnerable')</script> HTTP/1.1\",\n 'http.request.version-script>alert(1)/script><\\\\\" HTTP/1.1',\n 'dns.qry.name.len-0',\n 'dns.qry.name.len-0.0',\n 'dns.qry.name.len-0.debian.pool.ntp.org',\n 'dns.qry.name.len-1.0',\n 'dns.qry.name.len-1.debian.pool.ntp.org',\n 'dns.qry.name.len-2.debian.pool.ntp.org',\n 'dns.qry.name.len-3.debian.pool.ntp.org',\n 'dns.qry.name.len-_googlecast._tcp.local',\n 'dns.qry.name.len-null-null.local',\n 'dns.qry.name.len-raspberrypi.local',\n 'mqtt.conack.flags-0',\n 'mqtt.conack.flags-0.0',\n 'mqtt.conack.flags-0x00000000',\n 'mqtt.conack.flags-1461073',\n 'mqtt.conack.flags-1461074',\n 'mqtt.conack.flags-1461383',\n 'mqtt.conack.flags-1461384',\n 'mqtt.conack.flags-1461589',\n 'mqtt.conack.flags-1461591',\n 'mqtt.conack.flags-1471198',\n 'mqtt.conack.flags-1471199',\n 'mqtt.conack.flags-1574358',\n 'mqtt.conack.flags-1574359',\n 'mqtt.protoname-0',\n 'mqtt.protoname-0.0',\n 'mqtt.protoname-MQTT',\n 'mqtt.topic-0',\n 'mqtt.topic-0.0',\n 'mqtt.topic-Temperature_and_Humidity']"
          },
          "metadata": {}
        }
      ]
    },
    {
      "cell_type": "code",
      "source": [
        "from sklearn.preprocessing import LabelEncoder\n",
        "\n",
        "label_encoder = LabelEncoder()\n",
        "train_df[\"Attack_type\"] = label_encoder.fit_transform(train_df[\"Attack_type\"])\n",
        "test_df[\"Attack_type\"] = label_encoder.transform(test_df[\"Attack_type\"])"
      ],
      "metadata": {
        "execution": {
          "iopub.status.busy": "2023-09-02T22:13:04.745089Z",
          "iopub.execute_input": "2023-09-02T22:13:04.745545Z",
          "iopub.status.idle": "2023-09-02T22:13:05.532122Z",
          "shell.execute_reply.started": "2023-09-02T22:13:04.745510Z",
          "shell.execute_reply": "2023-09-02T22:13:05.531229Z"
        },
        "trusted": true,
        "id": "w6XifUgThG3y"
      },
      "execution_count": null,
      "outputs": []
    },
    {
      "cell_type": "code",
      "source": [
        "import numpy as np\n",
        "\n",
        "from sklearn.model_selection import train_test_split\n",
        "\n",
        "from sklearn.preprocessing import StandardScaler\n",
        "\n",
        "from sklearn import preprocessing\n",
        "\n",
        "def encode_text_dummy(df, name):\n",
        "\n",
        "    dummies = pd.get_dummies(df[name])\n",
        "\n",
        "    for x in dummies.columns:\n",
        "\n",
        "        dummy_name = f\"{name}-{x}\"\n",
        "\n",
        "        df[dummy_name] = dummies[x]\n",
        "\n",
        "    df.drop(name, axis=1, inplace=True)\n",
        "\n",
        "encode_text_dummy(df,'http.request.method')\n",
        "\n",
        "encode_text_dummy(df,'http.referer')\n",
        "\n",
        "encode_text_dummy(df,\"http.request.version\")\n",
        "\n",
        "encode_text_dummy(df,\"dns.qry.name.len\")\n",
        "\n",
        "encode_text_dummy(df,\"mqtt.conack.flags\")\n",
        "\n",
        "encode_text_dummy(df,\"mqtt.protoname\")\n",
        "\n",
        "encode_text_dummy(df,\"mqtt.topic\")"
      ],
      "metadata": {
        "execution": {
          "iopub.status.busy": "2023-09-02T22:01:28.988042Z",
          "iopub.execute_input": "2023-09-02T22:01:28.988586Z",
          "iopub.status.idle": "2023-09-02T22:01:34.861933Z",
          "shell.execute_reply.started": "2023-09-02T22:01:28.988548Z",
          "shell.execute_reply": "2023-09-02T22:01:34.861012Z"
        },
        "trusted": true,
        "id": "wUp9mwk5hG31"
      },
      "execution_count": null,
      "outputs": []
    },
    {
      "cell_type": "code",
      "source": [
        "df.to_csv('preprocessed_DNN.csv', encoding='utf-8')\n",
        "df.head()"
      ],
      "metadata": {
        "execution": {
          "iopub.status.busy": "2023-09-02T22:06:53.687606Z",
          "iopub.execute_input": "2023-09-02T22:06:53.688145Z",
          "iopub.status.idle": "2023-09-02T22:08:30.649017Z",
          "shell.execute_reply.started": "2023-09-02T22:06:53.688101Z",
          "shell.execute_reply": "2023-09-02T22:08:30.647854Z"
        },
        "trusted": true,
        "id": "KthEl6nlhG34",
        "outputId": "2b95fb42-c247-4b72-d308-92683f857b04"
      },
      "execution_count": null,
      "outputs": [
        {
          "execution_count": 29,
          "output_type": "execute_result",
          "data": {
            "text/plain": "         arp.opcode  arp.hw.size  icmp.checksum  icmp.seq_le  icmp.unused  \\\n715653          0.0          0.0            0.0          0.0          0.0   \n343404          0.0          0.0            0.0          0.0          0.0   \n70977           0.0          0.0            0.0          0.0          0.0   \n1272729         0.0          0.0            0.0          0.0          0.0   \n344242          0.0          0.0            0.0          0.0          0.0   \n\n         http.content_length  http.response  http.tls_port     tcp.ack  \\\n715653                   0.0            0.0            0.0         2.0   \n343404                   0.0            0.0            0.0        15.0   \n70977                    0.0            0.0            0.0       108.0   \n1272729                  0.0            0.0            0.0  39026378.0   \n344242                   0.0            0.0            0.0        15.0   \n\n          tcp.ack_raw  ...  mqtt.conack.flags-1471198  \\\n715653   1.975567e+09  ...                          0   \n343404   2.081796e+09  ...                          0   \n70977    2.323405e+09  ...                          0   \n1272729  1.177878e+09  ...                          0   \n344242   3.970277e+09  ...                          0   \n\n         mqtt.conack.flags-1471199  mqtt.conack.flags-1574358  \\\n715653                           0                          0   \n343404                           0                          0   \n70977                            0                          0   \n1272729                          0                          0   \n344242                           0                          0   \n\n         mqtt.conack.flags-1574359  mqtt.protoname-0  mqtt.protoname-0.0  \\\n715653                           0                 0                   1   \n343404                           0                 1                   0   \n70977                            0                 0                   1   \n1272729                          0                 1                   0   \n344242                           0                 1                   0   \n\n         mqtt.protoname-MQTT  mqtt.topic-0  mqtt.topic-0.0  \\\n715653                     0             0               1   \n343404                     0             1               0   \n70977                      0             0               1   \n1272729                    0             1               0   \n344242                     0             1               0   \n\n         mqtt.topic-Temperature_and_Humidity  \n715653                                     0  \n343404                                     0  \n70977                                      0  \n1272729                                    0  \n344242                                     0  \n\n[5 rows x 98 columns]",
            "text/html": "<div>\n<style scoped>\n    .dataframe tbody tr th:only-of-type {\n        vertical-align: middle;\n    }\n\n    .dataframe tbody tr th {\n        vertical-align: top;\n    }\n\n    .dataframe thead th {\n        text-align: right;\n    }\n</style>\n<table border=\"1\" class=\"dataframe\">\n  <thead>\n    <tr style=\"text-align: right;\">\n      <th></th>\n      <th>arp.opcode</th>\n      <th>arp.hw.size</th>\n      <th>icmp.checksum</th>\n      <th>icmp.seq_le</th>\n      <th>icmp.unused</th>\n      <th>http.content_length</th>\n      <th>http.response</th>\n      <th>http.tls_port</th>\n      <th>tcp.ack</th>\n      <th>tcp.ack_raw</th>\n      <th>...</th>\n      <th>mqtt.conack.flags-1471198</th>\n      <th>mqtt.conack.flags-1471199</th>\n      <th>mqtt.conack.flags-1574358</th>\n      <th>mqtt.conack.flags-1574359</th>\n      <th>mqtt.protoname-0</th>\n      <th>mqtt.protoname-0.0</th>\n      <th>mqtt.protoname-MQTT</th>\n      <th>mqtt.topic-0</th>\n      <th>mqtt.topic-0.0</th>\n      <th>mqtt.topic-Temperature_and_Humidity</th>\n    </tr>\n  </thead>\n  <tbody>\n    <tr>\n      <th>715653</th>\n      <td>0.0</td>\n      <td>0.0</td>\n      <td>0.0</td>\n      <td>0.0</td>\n      <td>0.0</td>\n      <td>0.0</td>\n      <td>0.0</td>\n      <td>0.0</td>\n      <td>2.0</td>\n      <td>1.975567e+09</td>\n      <td>...</td>\n      <td>0</td>\n      <td>0</td>\n      <td>0</td>\n      <td>0</td>\n      <td>0</td>\n      <td>1</td>\n      <td>0</td>\n      <td>0</td>\n      <td>1</td>\n      <td>0</td>\n    </tr>\n    <tr>\n      <th>343404</th>\n      <td>0.0</td>\n      <td>0.0</td>\n      <td>0.0</td>\n      <td>0.0</td>\n      <td>0.0</td>\n      <td>0.0</td>\n      <td>0.0</td>\n      <td>0.0</td>\n      <td>15.0</td>\n      <td>2.081796e+09</td>\n      <td>...</td>\n      <td>0</td>\n      <td>0</td>\n      <td>0</td>\n      <td>0</td>\n      <td>1</td>\n      <td>0</td>\n      <td>0</td>\n      <td>1</td>\n      <td>0</td>\n      <td>0</td>\n    </tr>\n    <tr>\n      <th>70977</th>\n      <td>0.0</td>\n      <td>0.0</td>\n      <td>0.0</td>\n      <td>0.0</td>\n      <td>0.0</td>\n      <td>0.0</td>\n      <td>0.0</td>\n      <td>0.0</td>\n      <td>108.0</td>\n      <td>2.323405e+09</td>\n      <td>...</td>\n      <td>0</td>\n      <td>0</td>\n      <td>0</td>\n      <td>0</td>\n      <td>0</td>\n      <td>1</td>\n      <td>0</td>\n      <td>0</td>\n      <td>1</td>\n      <td>0</td>\n    </tr>\n    <tr>\n      <th>1272729</th>\n      <td>0.0</td>\n      <td>0.0</td>\n      <td>0.0</td>\n      <td>0.0</td>\n      <td>0.0</td>\n      <td>0.0</td>\n      <td>0.0</td>\n      <td>0.0</td>\n      <td>39026378.0</td>\n      <td>1.177878e+09</td>\n      <td>...</td>\n      <td>0</td>\n      <td>0</td>\n      <td>0</td>\n      <td>0</td>\n      <td>1</td>\n      <td>0</td>\n      <td>0</td>\n      <td>1</td>\n      <td>0</td>\n      <td>0</td>\n    </tr>\n    <tr>\n      <th>344242</th>\n      <td>0.0</td>\n      <td>0.0</td>\n      <td>0.0</td>\n      <td>0.0</td>\n      <td>0.0</td>\n      <td>0.0</td>\n      <td>0.0</td>\n      <td>0.0</td>\n      <td>15.0</td>\n      <td>3.970277e+09</td>\n      <td>...</td>\n      <td>0</td>\n      <td>0</td>\n      <td>0</td>\n      <td>0</td>\n      <td>1</td>\n      <td>0</td>\n      <td>0</td>\n      <td>1</td>\n      <td>0</td>\n      <td>0</td>\n    </tr>\n  </tbody>\n</table>\n<p>5 rows × 98 columns</p>\n</div>"
          },
          "metadata": {}
        }
      ]
    },
    {
      "cell_type": "code",
      "source": [
        "from sklearn.preprocessing import MinMaxScaler\n",
        "\n",
        "scaler = MinMaxScaler()\n",
        "train_df[features] = scaler.fit_transform(train_df[features])\n",
        "test_df[features] = scaler.transform(test_df[features])"
      ],
      "metadata": {
        "execution": {
          "iopub.status.busy": "2023-09-02T22:13:30.291832Z",
          "iopub.execute_input": "2023-09-02T22:13:30.292367Z",
          "iopub.status.idle": "2023-09-02T22:13:37.933394Z",
          "shell.execute_reply.started": "2023-09-02T22:13:30.292322Z",
          "shell.execute_reply": "2023-09-02T22:13:37.932072Z"
        },
        "trusted": true,
        "id": "xlWXr5sShG36"
      },
      "execution_count": null,
      "outputs": []
    },
    {
      "cell_type": "code",
      "source": [
        "train_df[features] = train_df[features].astype(\"float32\")\n",
        "test_df[features] = test_df[features].astype(\"float32\")\n",
        "\n",
        "train_df[\"Attack_type\"] = train_df[\"Attack_type\"].astype(\"int32\")\n",
        "test_df[\"Attack_type\"] = test_df[\"Attack_type\"].astype(\"int32\")"
      ],
      "metadata": {
        "execution": {
          "iopub.status.busy": "2023-09-02T22:42:35.862863Z",
          "iopub.execute_input": "2023-09-02T22:42:35.863298Z",
          "iopub.status.idle": "2023-09-02T22:42:37.505676Z",
          "shell.execute_reply.started": "2023-09-02T22:42:35.863264Z",
          "shell.execute_reply": "2023-09-02T22:42:37.504565Z"
        },
        "trusted": true,
        "id": "E4xrse-BhG38"
      },
      "execution_count": null,
      "outputs": []
    },
    {
      "cell_type": "code",
      "source": [
        "!pip uninstall --yes tensorflow_federated\n",
        "!pip install --quiet tensorflow\n",
        "!pip install --quiet --upgrade tensorflow-federated\n"
      ],
      "metadata": {
        "execution": {
          "iopub.status.busy": "2023-09-02T23:51:08.077042Z",
          "iopub.execute_input": "2023-09-02T23:51:08.077608Z",
          "iopub.status.idle": "2023-09-02T23:51:39.536884Z",
          "shell.execute_reply.started": "2023-09-02T23:51:08.077565Z",
          "shell.execute_reply": "2023-09-02T23:51:39.535229Z"
        },
        "trusted": true,
        "id": "wYiiKh2AhG3_",
        "outputId": "867fae60-297b-4954-fd0d-16a4924245e0"
      },
      "execution_count": null,
      "outputs": [
        {
          "name": "stdout",
          "text": "Found existing installation: tensorflow-federated 0.33.0\nUninstalling tensorflow-federated-0.33.0:\n  Successfully uninstalled tensorflow-federated-0.33.0\n\u001b[33mWARNING: Running pip as the 'root' user can result in broken permissions and conflicting behaviour with the system package manager. It is recommended to use a virtual environment instead: https://pip.pypa.io/warnings/venv\u001b[0m\u001b[33m\n\u001b[0m\u001b[33mWARNING: Running pip as the 'root' user can result in broken permissions and conflicting behaviour with the system package manager. It is recommended to use a virtual environment instead: https://pip.pypa.io/warnings/venv\u001b[0m\u001b[33m\n\u001b[0m\u001b[33mWARNING: Running pip as the 'root' user can result in broken permissions and conflicting behaviour with the system package manager. It is recommended to use a virtual environment instead: https://pip.pypa.io/warnings/venv\u001b[0m\u001b[33m\n\u001b[0m",
          "output_type": "stream"
        }
      ]
    },
    {
      "cell_type": "code",
      "source": [
        "!pip install --quiet --upgrade nest_asyncio"
      ],
      "metadata": {
        "execution": {
          "iopub.status.busy": "2023-09-02T23:51:48.273219Z",
          "iopub.execute_input": "2023-09-02T23:51:48.273680Z",
          "iopub.status.idle": "2023-09-02T23:52:01.784116Z",
          "shell.execute_reply.started": "2023-09-02T23:51:48.273638Z",
          "shell.execute_reply": "2023-09-02T23:52:01.782785Z"
        },
        "trusted": true,
        "id": "MdkLjCkFhG4C",
        "outputId": "0220dd67-858a-4c1a-ef6f-68dfcdc5ebfe"
      },
      "execution_count": null,
      "outputs": [
        {
          "name": "stdout",
          "text": "\u001b[33mWARNING: Running pip as the 'root' user can result in broken permissions and conflicting behaviour with the system package manager. It is recommended to use a virtual environment instead: https://pip.pypa.io/warnings/venv\u001b[0m\u001b[33m\n\u001b[0m",
          "output_type": "stream"
        }
      ]
    },
    {
      "cell_type": "code",
      "source": [
        "import tensorflow as tf\n",
        "import tensorflow_federated as tff"
      ],
      "metadata": {
        "trusted": true,
        "id": "wcKF3A2AhG4F"
      },
      "execution_count": null,
      "outputs": []
    },
    {
      "cell_type": "code",
      "source": [
        "import nest_asyncio\n",
        "nest_asyncio.apply()"
      ],
      "metadata": {
        "execution": {
          "iopub.status.busy": "2023-09-02T23:33:28.028092Z",
          "iopub.execute_input": "2023-09-02T23:33:28.028659Z",
          "iopub.status.idle": "2023-09-02T23:33:28.035037Z",
          "shell.execute_reply.started": "2023-09-02T23:33:28.028618Z",
          "shell.execute_reply": "2023-09-02T23:33:28.033622Z"
        },
        "trusted": true,
        "id": "Pv5VADD2hG4I"
      },
      "execution_count": null,
      "outputs": []
    },
    {
      "cell_type": "code",
      "source": [
        "%load_ext tensorboard"
      ],
      "metadata": {
        "execution": {
          "iopub.status.busy": "2023-09-02T23:33:33.052230Z",
          "iopub.execute_input": "2023-09-02T23:33:33.052659Z",
          "iopub.status.idle": "2023-09-02T23:33:33.063425Z",
          "shell.execute_reply.started": "2023-09-02T23:33:33.052625Z",
          "shell.execute_reply": "2023-09-02T23:33:33.062112Z"
        },
        "trusted": true,
        "id": "GbPpqWvfhG4L"
      },
      "execution_count": null,
      "outputs": []
    },
    {
      "cell_type": "code",
      "source": [
        "import collections\n",
        "\n",
        "np.random.seed(0)\n",
        "\n",
        "tff.federated_computation(lambda: 'Hello, World!')()"
      ],
      "metadata": {
        "trusted": true,
        "id": "lR2GL6TuhG4N"
      },
      "execution_count": null,
      "outputs": []
    },
    {
      "cell_type": "code",
      "source": [
        "client_id_colname = 'client'\n",
        "\n",
        "client_ids = df[client_id_colname].unique()\n",
        "\n",
        "train_client_ids = pd.DataFrame(client_ids).sample(frac=0.8).values.ravel().tolist()\n",
        "test_client_ids = [x for x in client_ids if x not in train_client_ids]"
      ],
      "metadata": {
        "execution": {
          "iopub.status.busy": "2022-08-19T19:51:30.065604Z",
          "iopub.execute_input": "2022-08-19T19:51:30.065935Z",
          "iopub.status.idle": "2022-08-19T19:51:30.152683Z",
          "shell.execute_reply.started": "2022-08-19T19:51:30.065905Z",
          "shell.execute_reply": "2022-08-19T19:51:30.151396Z"
        },
        "trusted": true,
        "id": "xhG4Ulv3hG4Q"
      },
      "execution_count": null,
      "outputs": []
    },
    {
      "cell_type": "code",
      "source": [
        "train_client_ids"
      ],
      "metadata": {
        "execution": {
          "iopub.status.busy": "2022-08-19T19:51:30.155205Z",
          "iopub.execute_input": "2022-08-19T19:51:30.156219Z",
          "iopub.status.idle": "2022-08-19T19:51:30.16308Z",
          "shell.execute_reply.started": "2022-08-19T19:51:30.156142Z",
          "shell.execute_reply": "2022-08-19T19:51:30.161989Z"
        },
        "trusted": true,
        "id": "9Ogpi5fmhG4S"
      },
      "execution_count": null,
      "outputs": []
    },
    {
      "cell_type": "code",
      "source": [
        "from collections import OrderedDict\n",
        "from tensorflow.keras.utils import to_categorical\n",
        "\n",
        "NUM_EPOCHS = 1\n",
        "SHUFFLE_BUFFER = 100\n",
        "PREFETCH_BUFFER = 5\n",
        "\n",
        "def create_tf_dataset_for_client_fn(client_id):\n",
        "    client_data = dataframe[dataframe[client_id_colname] == client_id]\n",
        "    client_data_dict = OrderedDict()\n",
        "    client_data_dict[\"features\"] = np.array(client_data[features].values, dtype=\"float32\")\n",
        "    client_data_dict[\"label\"] = np.array(client_data[\"type\"].values, dtype=\"int32\")\n",
        "\n",
        "    dataset = tf.data.Dataset.from_tensor_slices(client_data_dict)\n",
        "    dataset = dataset.shuffle(SHUFFLE_BUFFER).batch(1).repeat(NUM_EPOCHS)\n",
        "    return dataset"
      ],
      "metadata": {
        "execution": {
          "iopub.status.busy": "2022-08-19T19:51:30.164717Z",
          "iopub.execute_input": "2022-08-19T19:51:30.16592Z",
          "iopub.status.idle": "2022-08-19T19:51:30.175145Z",
          "shell.execute_reply.started": "2022-08-19T19:51:30.165885Z",
          "shell.execute_reply": "2022-08-19T19:51:30.174156Z"
        },
        "trusted": true,
        "id": "Tr0NkZxahG4W"
      },
      "execution_count": null,
      "outputs": []
    },
    {
      "cell_type": "code",
      "source": [
        "dataframe = train_df\n",
        "train_data = tff.simulation.datasets.ClientData.from_clients_and_tf_fn(\n",
        "    client_ids=train_client_ids,\n",
        "    serializable_dataset_fn=create_tf_dataset_for_client_fn)\n",
        "\n",
        "dataframe = test_df\n",
        "test_data = tff.simulation.datasets.ClientData.from_clients_and_tf_fn(\n",
        "    client_ids=test_client_ids,\n",
        "    serializable_dataset_fn=create_tf_dataset_for_client_fn)"
      ],
      "metadata": {
        "execution": {
          "iopub.status.busy": "2022-08-19T19:51:30.176936Z",
          "iopub.execute_input": "2022-08-19T19:51:30.177776Z",
          "iopub.status.idle": "2022-08-19T19:51:30.865649Z",
          "shell.execute_reply.started": "2022-08-19T19:51:30.17774Z",
          "shell.execute_reply": "2022-08-19T19:51:30.864729Z"
        },
        "trusted": true,
        "id": "hm7vXfVKhG4Z"
      },
      "execution_count": null,
      "outputs": []
    },
    {
      "cell_type": "code",
      "source": [
        "train_data.element_type_structure"
      ],
      "metadata": {
        "execution": {
          "iopub.status.busy": "2022-08-19T19:51:30.86714Z",
          "iopub.execute_input": "2022-08-19T19:51:30.8678Z",
          "iopub.status.idle": "2022-08-19T19:51:30.875083Z",
          "shell.execute_reply.started": "2022-08-19T19:51:30.867765Z",
          "shell.execute_reply": "2022-08-19T19:51:30.87378Z"
        },
        "trusted": true,
        "id": "RmGm3BVHhG4b"
      },
      "execution_count": null,
      "outputs": []
    },
    {
      "cell_type": "code",
      "source": [
        "test_data.element_type_structure"
      ],
      "metadata": {
        "execution": {
          "iopub.status.busy": "2022-08-19T19:51:30.876709Z",
          "iopub.execute_input": "2022-08-19T19:51:30.877549Z",
          "iopub.status.idle": "2022-08-19T19:51:30.887532Z",
          "shell.execute_reply.started": "2022-08-19T19:51:30.877492Z",
          "shell.execute_reply": "2022-08-19T19:51:30.886071Z"
        },
        "trusted": true,
        "id": "pVVZ9RbChG4d"
      },
      "execution_count": null,
      "outputs": []
    },
    {
      "cell_type": "code",
      "source": [
        "example_dataset = train_data.create_tf_dataset_for_client(train_data.client_ids[0])\n",
        "\n",
        "example_element = next(iter(example_dataset))\n",
        "\n",
        "example_element['label'].numpy()"
      ],
      "metadata": {
        "execution": {
          "iopub.status.busy": "2022-08-19T19:51:30.890573Z",
          "iopub.execute_input": "2022-08-19T19:51:30.891545Z",
          "iopub.status.idle": "2022-08-19T19:51:30.976456Z",
          "shell.execute_reply.started": "2022-08-19T19:51:30.891485Z",
          "shell.execute_reply": "2022-08-19T19:51:30.975347Z"
        },
        "trusted": true,
        "id": "OW7tcp3EhG4f"
      },
      "execution_count": null,
      "outputs": []
    },
    {
      "cell_type": "code",
      "source": [
        "from collections import defaultdict\n",
        "\n",
        "f = plt.figure(figsize=(20, 10))\n",
        "f.suptitle('Label Counts for a Sample of Clients')\n",
        "for i, c_ids in enumerate(train_data.client_ids):\n",
        "    client_dataset = train_data.create_tf_dataset_for_client(c_ids)\n",
        "    plot_data = defaultdict(list)\n",
        "    for example in client_dataset:\n",
        "        label = example['label'].numpy()[0]\n",
        "        plot_data[label].append(label)\n",
        "    plt.subplot(2, 4, i+1)\n",
        "    plt.title('Client {}'.format(c_ids))\n",
        "    for j in range(10):\n",
        "        plt.hist(plot_data[j], density=False, bins=[0, 1, 2, 3, 4, 5, 6, 7, 8, 9, 10])"
      ],
      "metadata": {
        "execution": {
          "iopub.status.busy": "2022-08-19T19:51:30.977955Z",
          "iopub.execute_input": "2022-08-19T19:51:30.978352Z",
          "iopub.status.idle": "2022-08-19T19:52:06.361037Z",
          "shell.execute_reply.started": "2022-08-19T19:51:30.978318Z",
          "shell.execute_reply": "2022-08-19T19:52:06.359509Z"
        },
        "trusted": true,
        "id": "z5ma5p1HhG4i"
      },
      "execution_count": null,
      "outputs": []
    },
    {
      "cell_type": "code",
      "source": [
        "import collections\n",
        "\n",
        "NUM_EPOCHS = 5\n",
        "BATCH_SIZE = 128\n",
        "SHUFFLE_BUFFER = 100\n",
        "PREFETCH_BUFFER = 10\n",
        "\n",
        "def preprocess(dataset):\n",
        "    def batch_format_fn(element):\n",
        "        return collections.OrderedDict(x=tf.reshape(element['features'], [-1, len(features)]),\n",
        "                                       y=tf.reshape(element['label'], [-1, 1]))\n",
        "\n",
        "    return dataset.repeat(NUM_EPOCHS).shuffle(SHUFFLE_BUFFER, seed=1).batch(\n",
        "      BATCH_SIZE).map(batch_format_fn).prefetch(PREFETCH_BUFFER)"
      ],
      "metadata": {
        "execution": {
          "iopub.status.busy": "2022-08-19T19:52:06.368112Z",
          "iopub.execute_input": "2022-08-19T19:52:06.368551Z",
          "iopub.status.idle": "2022-08-19T19:52:06.376465Z",
          "shell.execute_reply.started": "2022-08-19T19:52:06.368516Z",
          "shell.execute_reply": "2022-08-19T19:52:06.375103Z"
        },
        "trusted": true,
        "id": "Iq6BkPVVhG4m"
      },
      "execution_count": null,
      "outputs": []
    },
    {
      "cell_type": "code",
      "source": [
        "preprocessed_example_dataset = preprocess(example_dataset)\n",
        "\n",
        "sample_batch = tf.nest.map_structure(lambda x: x.numpy(),\n",
        "                                     next(iter(preprocessed_example_dataset)))\n",
        "\n",
        "# sample_batch"
      ],
      "metadata": {
        "execution": {
          "iopub.status.busy": "2022-08-19T19:52:06.377771Z",
          "iopub.execute_input": "2022-08-19T19:52:06.378146Z",
          "iopub.status.idle": "2022-08-19T19:52:06.500415Z",
          "shell.execute_reply.started": "2022-08-19T19:52:06.378109Z",
          "shell.execute_reply": "2022-08-19T19:52:06.499412Z"
        },
        "trusted": true,
        "id": "RT-SfXA8hG4p"
      },
      "execution_count": null,
      "outputs": []
    },
    {
      "cell_type": "code",
      "source": [
        "from tqdm import tqdm\n",
        "\n",
        "def make_federated_data(client_data, client_ids):\n",
        "    return [preprocess(client_data.create_tf_dataset_for_client(x)) for x in tqdm(client_ids)]"
      ],
      "metadata": {
        "execution": {
          "iopub.status.busy": "2022-08-19T19:52:06.502097Z",
          "iopub.execute_input": "2022-08-19T19:52:06.502801Z",
          "iopub.status.idle": "2022-08-19T19:52:06.508178Z",
          "shell.execute_reply.started": "2022-08-19T19:52:06.502764Z",
          "shell.execute_reply": "2022-08-19T19:52:06.507047Z"
        },
        "trusted": true,
        "id": "3nfaRiMYhG4s"
      },
      "execution_count": null,
      "outputs": []
    },
    {
      "cell_type": "code",
      "source": [
        "NUM_CLIENTS = len(np.unique(train_df[client_id_colname]))\n",
        "\n",
        "sample_clients = train_data.client_ids[0:NUM_CLIENTS]\n",
        "\n",
        "federated_train_data = make_federated_data(train_data, sample_clients)\n",
        "\n",
        "print('Number of client datasets: {l}'.format(l=len(federated_train_data)))\n",
        "print('First dataset: {d}'.format(d=federated_train_data[0]))"
      ],
      "metadata": {
        "execution": {
          "iopub.status.busy": "2022-08-19T19:52:06.509643Z",
          "iopub.execute_input": "2022-08-19T19:52:06.51024Z",
          "iopub.status.idle": "2022-08-19T19:52:08.509385Z",
          "shell.execute_reply.started": "2022-08-19T19:52:06.510207Z",
          "shell.execute_reply": "2022-08-19T19:52:08.508206Z"
        },
        "trusted": true,
        "id": "4giAjORHhG4u"
      },
      "execution_count": null,
      "outputs": []
    },
    {
      "cell_type": "code",
      "source": [
        "def create_keras_model():\n",
        "    filters = 32\n",
        "    input_shape = (len(features))\n",
        "    num_classes = len(label_encoder.classes_)\n",
        "    clf = tf.keras.models.Sequential(\n",
        "        [\n",
        "            tf.keras.layers.Dense(64, input_dim=input_shape, activation='relu'),\n",
        "            tf.keras.layers.Dense(32, activation='relu'),\n",
        "            tf.keras.layers.Dropout(0.2),\n",
        "            tf.keras.layers.Dense(num_classes, activation='softmax')\n",
        "        ])\n",
        "    return clf\n",
        "\n",
        "keras_model = create_keras_model()\n",
        "keras_model.summary()"
      ],
      "metadata": {
        "execution": {
          "iopub.status.busy": "2022-08-19T19:52:08.511312Z",
          "iopub.execute_input": "2022-08-19T19:52:08.511689Z",
          "iopub.status.idle": "2022-08-19T19:52:08.620187Z",
          "shell.execute_reply.started": "2022-08-19T19:52:08.511653Z",
          "shell.execute_reply": "2022-08-19T19:52:08.618484Z"
        },
        "trusted": true,
        "id": "QxrPuSZOhG4w"
      },
      "execution_count": null,
      "outputs": []
    },
    {
      "cell_type": "code",
      "source": [
        "import keras.backend as K\n",
        "\n",
        "class F1Score(tf.keras.metrics.Metric):\n",
        "    def __init__(self, name='F1-Score', **kwargs):\n",
        "        super(F1Score, self).__init__(name=name, **kwargs)\n",
        "        self.f1_score = self.add_weight(name='f1_score', initializer='zeros')\n",
        "\n",
        "    def update_state(self, y_true, y_pred, sample_weight=None):\n",
        "        true_positives = tf.math.reduce_sum(tf.math.round(tf.clip_by_value(y_true * y_pred, 0, 1)))\n",
        "\n",
        "        possible_positives = tf.math.reduce_sum(tf.math.round(tf.clip_by_value(y_true, 0, 1)))\n",
        "        recall = true_positives / (possible_positives + K.epsilon())\n",
        "\n",
        "        predicted_positives = tf.math.reduce_sum(tf.math.round(tf.clip_by_value(y_pred, 0, 1)))\n",
        "        precision = true_positives / (predicted_positives + K.epsilon())\n",
        "\n",
        "        self.f1_score.assign(2*((precision*recall)/(precision+recall+K.epsilon())))\n",
        "\n",
        "    def result(self):\n",
        "        return self.f1_score\n",
        "\n",
        "    def reset_states(self):\n",
        "        self.f1_score.assign(0.0)"
      ],
      "metadata": {
        "execution": {
          "iopub.status.busy": "2022-08-19T19:52:08.622398Z",
          "iopub.execute_input": "2022-08-19T19:52:08.622909Z",
          "iopub.status.idle": "2022-08-19T19:52:08.636637Z",
          "shell.execute_reply.started": "2022-08-19T19:52:08.622859Z",
          "shell.execute_reply": "2022-08-19T19:52:08.635332Z"
        },
        "trusted": true,
        "id": "t1F32H2AhG4y"
      },
      "execution_count": null,
      "outputs": []
    },
    {
      "cell_type": "code",
      "source": [
        "from keras.metrics import Recall, Precision\n",
        "\n",
        "def model_fn():\n",
        "    keras_model = create_keras_model()\n",
        "    return tff.learning.from_keras_model(\n",
        "        keras_model,\n",
        "        input_spec=preprocessed_example_dataset.element_spec,\n",
        "        loss=tf.keras.losses.SparseCategoricalCrossentropy(),\n",
        "        metrics=[tf.keras.metrics.SparseCategoricalAccuracy()])"
      ],
      "metadata": {
        "execution": {
          "iopub.status.busy": "2022-08-19T19:52:08.638105Z",
          "iopub.execute_input": "2022-08-19T19:52:08.638528Z",
          "iopub.status.idle": "2022-08-19T19:52:08.649957Z",
          "shell.execute_reply.started": "2022-08-19T19:52:08.638492Z",
          "shell.execute_reply": "2022-08-19T19:52:08.648248Z"
        },
        "trusted": true,
        "id": "fL2KTvBGhG42"
      },
      "execution_count": null,
      "outputs": []
    },
    {
      "cell_type": "code",
      "source": [
        "iterative_process = tff.learning.build_federated_averaging_process(\n",
        "    model_fn,\n",
        "    client_optimizer_fn=lambda: tf.keras.optimizers.Adam(learning_rate=0.001),\n",
        "    server_optimizer_fn=lambda: tf.keras.optimizers.Adam(learning_rate=0.002))"
      ],
      "metadata": {
        "execution": {
          "iopub.status.busy": "2022-08-19T19:52:08.651473Z",
          "iopub.execute_input": "2022-08-19T19:52:08.651858Z",
          "iopub.status.idle": "2022-08-19T19:52:14.561857Z",
          "shell.execute_reply.started": "2022-08-19T19:52:08.651824Z",
          "shell.execute_reply": "2022-08-19T19:52:14.560572Z"
        },
        "trusted": true,
        "id": "RZgWil0WhG5A"
      },
      "execution_count": null,
      "outputs": []
    },
    {
      "cell_type": "code",
      "source": [
        "str(iterative_process.initialize.type_signature)"
      ],
      "metadata": {
        "execution": {
          "iopub.status.busy": "2022-08-19T19:52:14.563497Z",
          "iopub.execute_input": "2022-08-19T19:52:14.564486Z",
          "iopub.status.idle": "2022-08-19T19:52:14.571455Z",
          "shell.execute_reply.started": "2022-08-19T19:52:14.564447Z",
          "shell.execute_reply": "2022-08-19T19:52:14.570339Z"
        },
        "trusted": true,
        "id": "EE8a__09hG5D"
      },
      "execution_count": null,
      "outputs": []
    },
    {
      "cell_type": "code",
      "source": [
        "state = iterative_process.initialize()"
      ],
      "metadata": {
        "execution": {
          "iopub.status.busy": "2022-08-19T19:52:14.572721Z",
          "iopub.execute_input": "2022-08-19T19:52:14.57306Z",
          "iopub.status.idle": "2022-08-19T19:52:15.16808Z",
          "shell.execute_reply.started": "2022-08-19T19:52:14.57303Z",
          "shell.execute_reply": "2022-08-19T19:52:15.166856Z"
        },
        "trusted": true,
        "id": "ejXiBuRDhG5G"
      },
      "execution_count": null,
      "outputs": []
    },
    {
      "cell_type": "code",
      "source": [
        "state, metrics = iterative_process.next(state, federated_train_data)\n",
        "print('round  1, metrics={}'.format(metrics))"
      ],
      "metadata": {
        "execution": {
          "iopub.status.busy": "2022-08-19T19:52:15.169639Z",
          "iopub.execute_input": "2022-08-19T19:52:15.17091Z",
          "iopub.status.idle": "2022-08-19T19:52:45.20052Z",
          "shell.execute_reply.started": "2022-08-19T19:52:15.170869Z",
          "shell.execute_reply": "2022-08-19T19:52:45.198988Z"
        },
        "trusted": true,
        "id": "EB2fKQDMhG5I"
      },
      "execution_count": null,
      "outputs": []
    },
    {
      "cell_type": "code",
      "source": [
        "NUM_ROUNDS = 11\n",
        "for round_num in range(2, NUM_ROUNDS):\n",
        "    state, metrics = iterative_process.next(state, federated_train_data)\n",
        "    print('round {:2d}, metrics={}'.format(round_num, metrics))"
      ],
      "metadata": {
        "execution": {
          "iopub.status.busy": "2022-08-19T19:52:52.285716Z",
          "iopub.execute_input": "2022-08-19T19:52:52.286815Z",
          "iopub.status.idle": "2022-08-19T19:56:31.749341Z",
          "shell.execute_reply.started": "2022-08-19T19:52:52.286774Z",
          "shell.execute_reply": "2022-08-19T19:56:31.74769Z"
        },
        "trusted": true,
        "id": "Fl0ik50KhG5K"
      },
      "execution_count": null,
      "outputs": []
    },
    {
      "cell_type": "code",
      "source": [
        "train_logdir = \"training/\"\n",
        "os.makedirs(train_logdir, exist_ok=True)\n",
        "\n",
        "test_logdir = \"testing/\"\n",
        "os.makedirs(test_logdir, exist_ok=True)"
      ],
      "metadata": {
        "execution": {
          "iopub.status.busy": "2022-08-19T19:57:01.003075Z",
          "iopub.execute_input": "2022-08-19T19:57:01.004407Z",
          "iopub.status.idle": "2022-08-19T19:57:01.010751Z",
          "shell.execute_reply.started": "2022-08-19T19:57:01.004329Z",
          "shell.execute_reply": "2022-08-19T19:57:01.00945Z"
        },
        "trusted": true,
        "id": "KFfDMb5uhG5N"
      },
      "execution_count": null,
      "outputs": []
    },
    {
      "cell_type": "code",
      "source": [
        "summary_writer = tf.summary.create_file_writer(train_logdir)\n",
        "state = iterative_process.initialize()"
      ],
      "metadata": {
        "execution": {
          "iopub.status.busy": "2022-08-19T19:57:01.522241Z",
          "iopub.execute_input": "2022-08-19T19:57:01.523407Z",
          "iopub.status.idle": "2022-08-19T19:57:01.59489Z",
          "shell.execute_reply.started": "2022-08-19T19:57:01.523361Z",
          "shell.execute_reply": "2022-08-19T19:57:01.593625Z"
        },
        "trusted": true,
        "id": "H3gf03jthG5P"
      },
      "execution_count": null,
      "outputs": []
    },
    {
      "cell_type": "code",
      "source": [
        "with summary_writer.as_default():\n",
        "    for round_num in range(1, NUM_ROUNDS):\n",
        "        state, metrics = iterative_process.next(state, federated_train_data)\n",
        "        for name, value in metrics['train'].items():\n",
        "            tf.summary.scalar(name, value, step=round_num)"
      ],
      "metadata": {
        "execution": {
          "iopub.status.busy": "2022-08-19T19:57:02.154292Z",
          "iopub.execute_input": "2022-08-19T19:57:02.154735Z",
          "iopub.status.idle": "2022-08-19T20:01:13.194028Z",
          "shell.execute_reply.started": "2022-08-19T19:57:02.154701Z",
          "shell.execute_reply": "2022-08-19T20:01:13.191869Z"
        },
        "trusted": true,
        "id": "q26ivM91hG5S"
      },
      "execution_count": null,
      "outputs": []
    },
    {
      "cell_type": "code",
      "source": [
        "#@test {\"skip\": true}\n",
        "!ls {train_logdir}\n",
        "%tensorboard --logdir {train_logdir} --port=0"
      ],
      "metadata": {
        "execution": {
          "iopub.status.busy": "2022-08-19T20:01:13.19749Z",
          "iopub.execute_input": "2022-08-19T20:01:13.197973Z",
          "iopub.status.idle": "2022-08-19T20:01:21.482026Z",
          "shell.execute_reply.started": "2022-08-19T20:01:13.197933Z",
          "shell.execute_reply": "2022-08-19T20:01:21.480075Z"
        },
        "trusted": true,
        "id": "JJz8Gdx-hG5U"
      },
      "execution_count": null,
      "outputs": []
    },
    {
      "cell_type": "code",
      "source": [
        "ModelVariables = collections.namedtuple('ModelVariables', 'weights bias num_examples loss_sum accuracy_sum')"
      ],
      "metadata": {
        "execution": {
          "iopub.status.busy": "2022-08-19T20:01:21.486252Z",
          "iopub.execute_input": "2022-08-19T20:01:21.486826Z",
          "iopub.status.idle": "2022-08-19T20:01:21.496099Z",
          "shell.execute_reply.started": "2022-08-19T20:01:21.486779Z",
          "shell.execute_reply": "2022-08-19T20:01:21.494884Z"
        },
        "trusted": true,
        "id": "CNPELh93hG5X"
      },
      "execution_count": null,
      "outputs": []
    },
    {
      "cell_type": "code",
      "source": [
        "def create_model_variables():\n",
        "    return ModelVariables(\n",
        "        weights=tf.Variable(\n",
        "            lambda: tf.zeros(dtype=tf.float32, shape=(len(features), len(label_encoder.classes_))),\n",
        "            name='weights',\n",
        "            trainable=True),\n",
        "        bias=tf.Variable(\n",
        "            lambda: tf.zeros(dtype=tf.float32, shape=(len(label_encoder.classes_))),\n",
        "            name='bias',\n",
        "            trainable=True),\n",
        "        num_examples=tf.Variable(0.0, name='num_examples', trainable=False),\n",
        "        loss_sum=tf.Variable(0.0, name='loss_sum', trainable=False),\n",
        "        accuracy_sum=tf.Variable(0.0, name='accuracy_sum', trainable=False))"
      ],
      "metadata": {
        "execution": {
          "iopub.status.busy": "2022-08-19T20:01:21.498551Z",
          "iopub.execute_input": "2022-08-19T20:01:21.498996Z",
          "iopub.status.idle": "2022-08-19T20:01:21.515649Z",
          "shell.execute_reply.started": "2022-08-19T20:01:21.498957Z",
          "shell.execute_reply": "2022-08-19T20:01:21.514254Z"
        },
        "trusted": true,
        "id": "125PZunqhG5a"
      },
      "execution_count": null,
      "outputs": []
    },
    {
      "cell_type": "code",
      "source": [
        "def predict_on_batch(variables, x):\n",
        "    return tf.nn.softmax(tf.matmul(x, variables.weights) + variables.bias)\n",
        "\n",
        "def model_forward_pass(variables, batch):\n",
        "    y = predict_on_batch(variables, batch['x'])\n",
        "    predictions = tf.cast(tf.argmax(y, 1), tf.int32)\n",
        "\n",
        "    flat_labels = tf.reshape(batch['y'], [-1])\n",
        "    loss = -tf.reduce_mean(tf.reduce_sum(tf.one_hot(flat_labels, len(label_encoder.classes_)) * tf.math.log(y), axis=[1]))\n",
        "    accuracy = tf.reduce_mean(tf.cast(tf.equal(predictions, flat_labels), tf.float32))\n",
        "    num_examples = tf.cast(tf.size(batch['y']), tf.float32)\n",
        "    variables.num_examples.assign_add(num_examples)\n",
        "    variables.loss_sum.assign_add(loss * num_examples)\n",
        "    variables.accuracy_sum.assign_add(accuracy * num_examples)\n",
        "    return loss, predictions"
      ],
      "metadata": {
        "execution": {
          "iopub.status.busy": "2022-08-19T20:01:21.517869Z",
          "iopub.execute_input": "2022-08-19T20:01:21.518696Z",
          "iopub.status.idle": "2022-08-19T20:01:21.533674Z",
          "shell.execute_reply.started": "2022-08-19T20:01:21.518653Z",
          "shell.execute_reply": "2022-08-19T20:01:21.532239Z"
        },
        "trusted": true,
        "id": "chdKjgJHhG5d"
      },
      "execution_count": null,
      "outputs": []
    },
    {
      "cell_type": "code",
      "source": [
        "def get_local_model_metrics(variables):\n",
        "    return collections.OrderedDict(\n",
        "        num_examples=variables.num_examples,\n",
        "        loss=variables.loss_sum / variables.num_examples,\n",
        "        accuracy=variables.accuracy_sum / variables.num_examples)"
      ],
      "metadata": {
        "execution": {
          "iopub.status.busy": "2022-08-19T20:01:49.698443Z",
          "iopub.execute_input": "2022-08-19T20:01:49.698895Z",
          "iopub.status.idle": "2022-08-19T20:01:49.705902Z",
          "shell.execute_reply.started": "2022-08-19T20:01:49.698856Z",
          "shell.execute_reply": "2022-08-19T20:01:49.70448Z"
        },
        "trusted": true,
        "id": "ewaUYn2OhG5g"
      },
      "execution_count": null,
      "outputs": []
    },
    {
      "cell_type": "code",
      "source": [
        "@tff.federated_computation\n",
        "def aggregate_model_metrics_across_clients(metrics):\n",
        "    return collections.OrderedDict(\n",
        "        num_examples=tff.federated_sum(metrics.num_examples),\n",
        "        loss=tff.federated_mean(metrics.loss, metrics.num_examples),\n",
        "        accuracy=tff.federated_mean(metrics.accuracy, metrics.num_examples))\n",
        ""
      ],
      "metadata": {
        "execution": {
          "iopub.status.busy": "2022-08-19T20:01:50.837141Z",
          "iopub.execute_input": "2022-08-19T20:01:50.83843Z",
          "iopub.status.idle": "2022-08-19T20:01:50.845882Z",
          "shell.execute_reply.started": "2022-08-19T20:01:50.838376Z",
          "shell.execute_reply": "2022-08-19T20:01:50.844252Z"
        },
        "trusted": true,
        "id": "rz4I30ymhG5j"
      },
      "execution_count": null,
      "outputs": []
    },
    {
      "cell_type": "code",
      "source": [
        "from typing import Callable, List, OrderedDict\n",
        "\n",
        "class IOTModel(tff.learning.Model):\n",
        "    def __init__(self):\n",
        "        self._variables = create_model_variables()\n",
        "    @property\n",
        "    def trainable_variables(self):\n",
        "        return [self._variables.weights, self._variables.bias]\n",
        "\n",
        "    @property\n",
        "    def non_trainable_variables(self):\n",
        "        return []\n",
        "\n",
        "    @property\n",
        "    def local_variables(self):\n",
        "        return [\n",
        "            self._variables.num_examples, self._variables.loss_sum,\n",
        "            self._variables.accuracy_sum\n",
        "        ]\n",
        "\n",
        "    @property\n",
        "    def input_spec(self):\n",
        "        return OrderedDict(\n",
        "            x=tf.TensorSpec([None, len(features)], tf.float32),\n",
        "            y=tf.TensorSpec([None, 1], tf.int32))\n",
        "\n",
        "    @tf.function\n",
        "    def predict_on_batch(self, x, training=True):\n",
        "        del training\n",
        "        return predict_on_batch(self._variables, x)\n",
        "\n",
        "    @tf.function\n",
        "    def forward_pass(self, batch, training=True):\n",
        "        del training\n",
        "        loss, predictions = model_forward_pass(self._variables, batch)\n",
        "        num_exmaples = tf.shape(batch['x'])[0]\n",
        "        return tff.learning.BatchOutput(loss=loss, predictions=predictions, num_examples=num_exmaples)\n",
        "\n",
        "    @tf.function\n",
        "    def report_local_outputs(self):\n",
        "        return get_local_model_metrics(self._variables)\n",
        "\n",
        "    @property\n",
        "    def federated_output_computation(self):\n",
        "        return aggregate_model_metrics_across_clients\n",
        "\n",
        "    @tf.function\n",
        "    def report_local_unfinalized_metrics(self) -> OrderedDict[str, List[tf.Tensor]]:\n",
        "        \"\"\"Creates an `OrderedDict` of metric names to unfinalized values.\"\"\"\n",
        "        return collections.OrderedDict(\n",
        "            num_examples=[self._variables.num_examples],\n",
        "            loss=[self._variables.loss_sum, self._variables.num_examples],\n",
        "            accuracy=[self._variables.accuracy_sum, self._variables.num_examples])\n",
        "\n",
        "    def metric_finalizers(self) -> OrderedDict[str, Callable[[List[tf.Tensor]], tf.Tensor]]:\n",
        "        \"\"\"Creates an `OrderedDict` of metric names to finalizers.\"\"\"\n",
        "        return collections.OrderedDict(\n",
        "            num_examples=tf.function(func=lambda x: x[0]),\n",
        "            loss=tf.function(func=lambda x: x[0] / x[1]),\n",
        "            accuracy=tf.function(func=lambda x: x[0] / x[1]))"
      ],
      "metadata": {
        "execution": {
          "iopub.status.busy": "2022-08-19T20:29:24.017214Z",
          "iopub.execute_input": "2022-08-19T20:29:24.017731Z",
          "iopub.status.idle": "2022-08-19T20:29:24.035384Z",
          "shell.execute_reply.started": "2022-08-19T20:29:24.017695Z",
          "shell.execute_reply": "2022-08-19T20:29:24.034118Z"
        },
        "trusted": true,
        "id": "nSVs0v8hhG5m"
      },
      "execution_count": null,
      "outputs": []
    },
    {
      "cell_type": "code",
      "source": [
        "iterative_process = tff.learning.build_federated_averaging_process(\n",
        "    IOTModel,\n",
        "    client_optimizer_fn=lambda: tf.keras.optimizers.Adam(learning_rate=0.001))"
      ],
      "metadata": {
        "execution": {
          "iopub.status.busy": "2022-08-19T20:29:25.7499Z",
          "iopub.execute_input": "2022-08-19T20:29:25.750466Z",
          "iopub.status.idle": "2022-08-19T20:29:26.591379Z",
          "shell.execute_reply.started": "2022-08-19T20:29:25.750414Z",
          "shell.execute_reply": "2022-08-19T20:29:26.590244Z"
        },
        "trusted": true,
        "id": "nPCciFqMhG5r"
      },
      "execution_count": null,
      "outputs": []
    },
    {
      "cell_type": "code",
      "source": [
        "state = iterative_process.initialize()"
      ],
      "metadata": {
        "execution": {
          "iopub.status.busy": "2022-08-19T20:02:06.5679Z",
          "iopub.execute_input": "2022-08-19T20:02:06.56872Z",
          "iopub.status.idle": "2022-08-19T20:02:06.803502Z",
          "shell.execute_reply.started": "2022-08-19T20:02:06.56868Z",
          "shell.execute_reply": "2022-08-19T20:02:06.802311Z"
        },
        "trusted": true,
        "id": "zPFEMmn3hG5t"
      },
      "execution_count": null,
      "outputs": []
    },
    {
      "cell_type": "code",
      "source": [
        "state, metrics = iterative_process.next(state, federated_train_data)\n",
        "print('round  1, metrics={}'.format(metrics))"
      ],
      "metadata": {
        "execution": {
          "iopub.status.busy": "2022-08-19T20:02:07.73107Z",
          "iopub.execute_input": "2022-08-19T20:02:07.731526Z",
          "iopub.status.idle": "2022-08-19T20:02:29.460203Z",
          "shell.execute_reply.started": "2022-08-19T20:02:07.731488Z",
          "shell.execute_reply": "2022-08-19T20:02:29.459291Z"
        },
        "trusted": true,
        "id": "lEjG0I9mhG5v"
      },
      "execution_count": null,
      "outputs": []
    },
    {
      "cell_type": "code",
      "source": [
        "for round_num in range(2, 11):\n",
        "    state, metrics = iterative_process.next(state, federated_train_data)\n",
        "    print('round {:2d}, metrics={}'.format(round_num, metrics))"
      ],
      "metadata": {
        "execution": {
          "iopub.status.busy": "2022-08-19T20:02:29.461722Z",
          "iopub.execute_input": "2022-08-19T20:02:29.462796Z",
          "iopub.status.idle": "2022-08-19T20:05:15.420189Z",
          "shell.execute_reply.started": "2022-08-19T20:02:29.462755Z",
          "shell.execute_reply": "2022-08-19T20:05:15.418661Z"
        },
        "trusted": true,
        "id": "m3ZFDpAphG5w"
      },
      "execution_count": null,
      "outputs": []
    },
    {
      "cell_type": "code",
      "source": [
        "evaluation = tff.learning.build_federated_evaluation(IOTModel)"
      ],
      "metadata": {
        "execution": {
          "iopub.status.busy": "2022-08-19T20:05:15.422676Z",
          "iopub.execute_input": "2022-08-19T20:05:15.424302Z",
          "iopub.status.idle": "2022-08-19T20:05:15.918616Z",
          "shell.execute_reply.started": "2022-08-19T20:05:15.424232Z",
          "shell.execute_reply": "2022-08-19T20:05:15.917074Z"
        },
        "trusted": true,
        "id": "BQE5RX0QhG5y"
      },
      "execution_count": null,
      "outputs": []
    },
    {
      "cell_type": "code",
      "source": [
        "str(evaluation.type_signature)"
      ],
      "metadata": {
        "execution": {
          "iopub.status.busy": "2022-08-19T20:05:15.920996Z",
          "iopub.execute_input": "2022-08-19T20:05:15.921546Z",
          "iopub.status.idle": "2022-08-19T20:05:15.930906Z",
          "shell.execute_reply.started": "2022-08-19T20:05:15.921498Z",
          "shell.execute_reply": "2022-08-19T20:05:15.929406Z"
        },
        "trusted": true,
        "id": "wRvir1DGhG50"
      },
      "execution_count": null,
      "outputs": []
    },
    {
      "cell_type": "code",
      "source": [
        "train_metrics = evaluation(state.model, federated_train_data)"
      ],
      "metadata": {
        "execution": {
          "iopub.status.busy": "2022-08-19T20:05:49.925082Z",
          "iopub.execute_input": "2022-08-19T20:05:49.925604Z",
          "iopub.status.idle": "2022-08-19T20:06:06.050496Z",
          "shell.execute_reply.started": "2022-08-19T20:05:49.925565Z",
          "shell.execute_reply": "2022-08-19T20:06:06.049216Z"
        },
        "trusted": true,
        "id": "LA55wDvIhG52"
      },
      "execution_count": null,
      "outputs": []
    },
    {
      "cell_type": "code",
      "source": [
        "str(train_metrics)"
      ],
      "metadata": {
        "execution": {
          "iopub.status.busy": "2022-08-19T20:06:06.053084Z",
          "iopub.execute_input": "2022-08-19T20:06:06.053627Z",
          "iopub.status.idle": "2022-08-19T20:06:06.060008Z",
          "shell.execute_reply.started": "2022-08-19T20:06:06.053578Z",
          "shell.execute_reply": "2022-08-19T20:06:06.05922Z"
        },
        "trusted": true,
        "id": "V4TkMUKXhG54"
      },
      "execution_count": null,
      "outputs": []
    },
    {
      "cell_type": "code",
      "source": [
        "NUM_CLIENTS = len(np.unique(test_df[client_id_colname]))\n",
        "\n",
        "sample_clients = test_data.client_ids[0:NUM_CLIENTS]\n",
        "\n",
        "federated_test_data = make_federated_data(test_data, sample_clients)\n",
        "\n",
        "len(federated_test_data), federated_test_data[0]"
      ],
      "metadata": {
        "execution": {
          "iopub.status.busy": "2022-08-19T20:06:28.888323Z",
          "iopub.execute_input": "2022-08-19T20:06:28.88947Z",
          "iopub.status.idle": "2022-08-19T20:06:29.43079Z",
          "shell.execute_reply.started": "2022-08-19T20:06:28.889427Z",
          "shell.execute_reply": "2022-08-19T20:06:29.429561Z"
        },
        "trusted": true,
        "id": "g8fCgRjYhG56"
      },
      "execution_count": null,
      "outputs": []
    },
    {
      "cell_type": "code",
      "source": [
        "test_metrics = evaluation(state.model, federated_test_data)"
      ],
      "metadata": {
        "execution": {
          "iopub.status.busy": "2022-08-19T20:06:36.902554Z",
          "iopub.execute_input": "2022-08-19T20:06:36.903875Z",
          "iopub.status.idle": "2022-08-19T20:06:41.474325Z",
          "shell.execute_reply.started": "2022-08-19T20:06:36.903814Z",
          "shell.execute_reply": "2022-08-19T20:06:41.473377Z"
        },
        "trusted": true,
        "id": "Kd7ucUWKhG58"
      },
      "execution_count": null,
      "outputs": []
    },
    {
      "cell_type": "code",
      "source": [
        "# model_for_inference = create_keras_model()\n",
        "# state.model.assign_weights_to(model_for_inference)\n",
        "\n",
        "# y_hat = model_for_inference.predict(test_df[features].values, batch_size=BATCH_SIZE, verbose=1)\n",
        "# y_hat = np.argmax(y_hat, axis=1)\n",
        "# y_hat\n",
        "\n",
        "iot_model = IOTModel()\n",
        "state.model.assign_weights_to(iot_model)\n",
        "y_hat = iot_model.predict_on_batch(test_df[features])\n",
        "y_hat = np.argmax(y_hat, axis=1)\n",
        "y_hat"
      ],
      "metadata": {
        "execution": {
          "iopub.status.busy": "2022-08-19T20:34:42.572914Z",
          "iopub.execute_input": "2022-08-19T20:34:42.574347Z",
          "iopub.status.idle": "2022-08-19T20:34:42.899775Z",
          "shell.execute_reply.started": "2022-08-19T20:34:42.5743Z",
          "shell.execute_reply": "2022-08-19T20:34:42.898521Z"
        },
        "trusted": true,
        "id": "Rr7TF6OohG5-"
      },
      "execution_count": null,
      "outputs": []
    },
    {
      "cell_type": "code",
      "source": [
        "from sklearn.metrics import classification_report\n",
        "\n",
        "print(classification_report(test_df[\"type\"].values, y_hat))"
      ],
      "metadata": {
        "execution": {
          "iopub.status.busy": "2022-08-19T20:34:09.545089Z",
          "iopub.execute_input": "2022-08-19T20:34:09.546344Z",
          "iopub.status.idle": "2022-08-19T20:34:09.93414Z",
          "shell.execute_reply.started": "2022-08-19T20:34:09.546296Z",
          "shell.execute_reply": "2022-08-19T20:34:09.932711Z"
        },
        "trusted": true,
        "id": "-wDAslOjhG6A"
      },
      "execution_count": null,
      "outputs": []
    }
  ]
}